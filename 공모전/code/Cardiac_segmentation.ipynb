{
 "cells": [
  {
   "cell_type": "code",
   "execution_count": 1,
   "metadata": {},
   "outputs": [],
   "source": [
    "import numpy as np\n",
    "import subprocess\n",
    "import random\n",
    "from glob import glob\n",
    "from skimage import io\n",
    "from skimage.transform import rescale,resize,downscale_local_mean\n",
    "import SimpleITK as sitk\n",
    "import os\n",
    "from matplotlib import pyplot as plt\n",
    "from matplotlib import cm"
   ]
  },
  {
   "cell_type": "code",
   "execution_count": 2,
   "metadata": {},
   "outputs": [],
   "source": [
    "#파일 읽어오기\n",
    "file_name_image = '/Users/donghoon/공부자료/포스텍정보통신연구소연구부/공모전/sample/sample_cardiac/CHD/image/**.mha'\n",
    "file_name_label = '/Users/donghoon/공부자료/포스텍정보통신연구소연구부/공모전/sample/sample_cardiac/CHD/label/**.mha'\n"
   ]
  },
  {
   "cell_type": "code",
   "execution_count": 3,
   "metadata": {},
   "outputs": [
    {
     "name": "stdout",
     "output_type": "stream",
     "text": [
      "['/Users/donghoon/공부자료/포스텍정보통신연구소연구부/공모전/sample/sample_cardiac/CHD/image/sample_dia.mha', '/Users/donghoon/공부자료/포스텍정보통신연구소연구부/공모전/sample/sample_cardiac/CHD/image/sample_sys.mha']\n",
      "['/Users/donghoon/공부자료/포스텍정보통신연구소연구부/공모전/sample/sample_cardiac/CHD/label/sample_dia_M.mha', '/Users/donghoon/공부자료/포스텍정보통신연구소연구부/공모전/sample/sample_cardiac/CHD/label/sample_sys_M.mha']\n"
     ]
    }
   ],
   "source": [
    "# 파일리스트 정렬하기\n",
    "file_list_image = sorted(glob(file_name_image))\n",
    "file_list_label = sorted(glob(file_name_label))\n",
    "print(file_list_image)\n",
    "print(file_list_label)"
   ]
  },
  {
   "cell_type": "code",
   "execution_count": 4,
   "metadata": {},
   "outputs": [
    {
     "name": "stdout",
     "output_type": "stream",
     "text": [
      "(171, 512, 512)\n",
      "(171, 512, 512)\n",
      "16-bit signed integer\n",
      "8-bit unsigned integer\n",
      "(0.21875, 0.21875, 0.400024)\n",
      "(1.0, 1.0, 1.0)\n"
     ]
    }
   ],
   "source": [
    "#파일 인덱스 0 읽어오기 & 정보 보기\n",
    "image = sitk.ReadImage(str(file_list_image[0]))\n",
    "label = sitk.ReadImage(str(file_list_label[0]))\n",
    "print(sitk.GetArrayFromImage(image).shape)\n",
    "print(sitk.GetArrayFromImage(label).shape)\n",
    "print(image.GetPixelIDTypeAsString())\n",
    "print(label.GetPixelIDTypeAsString())\n",
    "print(image.GetSpacing())\n",
    "print(label.GetSpacing())"
   ]
  },
  {
   "cell_type": "code",
   "execution_count": 5,
   "metadata": {},
   "outputs": [],
   "source": [
    "# 변수 지정\n",
    "dimension = 3\n",
    "point = (1.0, 1.0,1.0)\n",
    "LowT = -300\n",
    "HighT = 700\n",
    "displacement = 10\n",
    "n_class =3\n",
    "img_rows=512\n",
    "img_cols=512"
   ]
  },
  {
   "cell_type": "code",
   "execution_count": 6,
   "metadata": {},
   "outputs": [],
   "source": [
    "# 포인트 Transform 좌표 프린트하기\n",
    "def transform_point(transform, point):\n",
    "    transformed_point = transform.TransformPoint(point)\n",
    "    print('Point '+str(point) + ' transformed is ' + str(transformed_point))"
   ]
  },
  {
   "cell_type": "code",
   "execution_count": 7,
   "metadata": {},
   "outputs": [
    {
     "name": "stdout",
     "output_type": "stream",
     "text": [
      "*Translation Transform*\n",
      "Parameters : (0.0, 0.0, 0.0)\n",
      "Offset : (0.0, 0.0, 0.0)\n",
      "FixedParameters: ()\n",
      "Point (1.0, 1.0, 1.0) transformed is (1.0, 1.0, 1.0)\n",
      "\n",
      "Parameters : (0.0, 0.0, 0.0)\n",
      "Point (1.0, 1.0, 1.0) transformed is (1.0, 1.0, 1.0)\n"
     ]
    }
   ],
   "source": [
    "# 없어도 되는 코드\n",
    "print('*Translation Transform*')\n",
    "translation = sitk.TranslationTransform(dimension)\n",
    "\n",
    "print('Parameters : '+ str(translation.GetParameters()))\n",
    "print('Offset : '+ str(translation.GetOffset()))\n",
    "print('FixedParameters: '+ str(translation.GetFixedParameters()))\n",
    "transform_point(translation,point)\n",
    "\n",
    "print('')\n",
    "#translation.SetParameters((3.1,4.4,5.3))\n",
    "print('Parameters : '+ str(translation.GetParameters()))\n",
    "transform_point(translation, point)"
   ]
  },
  {
   "cell_type": "code",
   "execution_count": 8,
   "metadata": {},
   "outputs": [],
   "source": [
    "# 2D 이미지 보여주기\n",
    "def myshow2d(img, title = None, margin=0.05, dpi=80):\n",
    "    nda = sitk.GetArrayFromImage(img)\n",
    "    spacing = img.GetSpacing()\n",
    "    \n",
    "    ysize = nda.shape[0]\n",
    "    xsize = nda.shape[1]\n",
    "    \n",
    "    figsize = (1+margin) * ysize /dpi, (1+margin) * xsize /dpi\n",
    "    \n",
    "    fig = plt.figure(title, figsize = figsize , dpi = dpi)\n",
    "    ax = fig.add_axes([margin,margin,1 - 2*margin, 1-2*margin])\n",
    "    \n",
    "    extent = (0, xsize*spacing[1], 0, ysize*spacing[0])\n",
    "    \n",
    "    t = ax.imshow(nda, extent=extent, cmap= 'gray', origin='lower')\n",
    "    if(title):\n",
    "        plt.title(title)\n",
    "    plt.show()"
   ]
  },
  {
   "cell_type": "code",
   "execution_count": 9,
   "metadata": {},
   "outputs": [],
   "source": [
    "# 2D 이미지 보여주기\n",
    "def myshow(img, title=None, margin=0.05, dpi=80):\n",
    "    nda = sitk.GetArrayFromImage(img)\n",
    "    spacing = img.GetSpacing()\n",
    "\n",
    "    if nda.ndim == 3:\n",
    "        # fastest dim, either component or x\n",
    "        c = nda.shape[-1]\n",
    "\n",
    "        # the the number of components is 3 or 4 consider it an RGB image\n",
    "        if c not in (3, 4):\n",
    "            nda = nda[nda.shape[0] // 2, :, :]\n",
    "\n",
    "    elif nda.ndim == 4:\n",
    "        c = nda.shape[-1]\n",
    "\n",
    "        if c not in (3, 4):\n",
    "            raise RuntimeError(\"Unable to show 3D-vector Image\")\n",
    "\n",
    "        # take a z-slice\n",
    "        nda = nda[nda.shape[0] // 2, :, :, :]\n",
    "\n",
    "    xsize = nda.shape[1]\n",
    "    ysize = nda.shape[0]\n",
    "\n",
    "    # Make a figure big enough to accommodate an axis of xpixels by ypixels\n",
    "    # as well as the ticklabels, etc...\n",
    "    figsize = (1 + margin) * xsize / dpi, (1 + margin) * ysize / dpi\n",
    "\n",
    "    plt.figure(figsize=figsize, dpi=dpi, tight_layout=True)\n",
    "    ax = plt.gca()\n",
    "\n",
    "    extent = (0, xsize * spacing[0], ysize * spacing[1], 0)\n",
    "\n",
    "    t = ax.imshow(nda, extent=extent, interpolation=None)\n",
    "\n",
    "    if nda.ndim == 2:\n",
    "        t.set_cmap(\"gray\")\n",
    "\n",
    "    if(title):\n",
    "        plt.title(title)\n",
    "\n",
    "    plt.show()\n",
    "\n",
    "# 3D 이미지 보여주기\n",
    "def myshow3d(img, xslices=[], yslices=[], zslices=[], title=None, margin=0.05,\n",
    "             dpi=80):\n",
    "    img_xslices = [img[s, :, :] for s in xslices]\n",
    "    img_yslices = [img[:, s, :] for s in yslices]\n",
    "    img_zslices = [img[:, :, s] for s in zslices]\n",
    "\n",
    "    maxlen = max(len(img_xslices), len(img_yslices), len(img_zslices))\n",
    "\n",
    "\n",
    "    img_null = sitk.Image([0, 0], img.GetPixelID(),\n",
    "                          img.GetNumberOfComponentsPerPixel())\n",
    "\n",
    "    img_slices = []\n",
    "    d = 0\n",
    "\n",
    "    if len(img_xslices):\n",
    "        img_slices += img_xslices + [img_null] * (maxlen - len(img_xslices))\n",
    "        d += 1\n",
    "\n",
    "    if len(img_yslices):\n",
    "        img_slices += img_yslices + [img_null] * (maxlen - len(img_yslices))\n",
    "        d += 1\n",
    "\n",
    "    if len(img_zslices):\n",
    "        img_slices += img_zslices + [img_null] * (maxlen - len(img_zslices))\n",
    "        d += 1\n",
    "\n",
    "    if maxlen != 0:\n",
    "        if img.GetNumberOfComponentsPerPixel() == 1:\n",
    "            img = sitk.Tile(img_slices, [maxlen, d])\n",
    "        # TO DO check in code to get Tile Filter working with vector images\n",
    "        else:\n",
    "            img_comps = []\n",
    "            for i in range(0, img.GetNumberOfComponentsPerPixel()):\n",
    "                img_slices_c = [sitk.VectorIndexSelectionCast(s, i)\n",
    "                                for s in img_slices]\n",
    "                img_comps.append(sitk.Tile(img_slices_c, [maxlen, d]))\n",
    "            img = sitk.Compose(img_comps)\n",
    "\n",
    "    myshow(img, title, margin, dpi)"
   ]
  },
  {
   "cell_type": "code",
   "execution_count": 10,
   "metadata": {},
   "outputs": [],
   "source": [
    "# 쓰지않는 함수 \n",
    "def resample(image, new_spacing):\n",
    "    # Output image Origin, Spacing, Size, Direction 들은 레퍼런스에서 가져옵니다.\n",
    "    new_size = (512,512,512)\n",
    "    image = image.SetSpacing(new_spacing[0],new_spacing[1],new_spacing[2])\n",
    "    transform = sitk.Transform(3, sitk.sitkIdentity)\n",
    "    interpolator = sitk.sitkCosineWindowedSinc\n",
    "    resize_factor=np.array(image.GetSpacing())/np.array(new_spacing)\n",
    "    new_real_shape = np.array(image.GetSize())*resize_factor\n",
    "    new_shape = np.array(np.round(new_real_shape),np.uint32)\n",
    "    new_size = (int(new_shape[0]),int(new_shape[1]),int(new_shape[2]))\n",
    "    origin = image.GetOrigin()\n",
    "    new_spacing = new_spacing\n",
    "    direction = image.GetDirection()\n",
    "    #return sitk.Resample(image, reference_image, transform, interpolator, default_value)\n",
    "    return sitk.Resample(image,new_size , transform, interpolator, origin, new_spacing, direction)"
   ]
  },
  {
   "cell_type": "code",
   "execution_count": 11,
   "metadata": {},
   "outputs": [],
   "source": [
    "# resample 함수 \n",
    "def calculate_origin_offset(new_spacing, old_spacing):\n",
    "    return np.subtract(new_spacing, old_spacing)/2\n",
    "\n",
    "def sitk_new_blank_image(size, spacing, direction, origin, default_value=0.):\n",
    "    image = sitk.GetImageFromArray(np.ones(size, dtype=np.float).T * default_value)\n",
    "    image.SetSpacing(spacing)\n",
    "    image.SetDirection(direction)\n",
    "    image.SetOrigin(origin)\n",
    "    return image\n",
    "\n",
    "def sitk_resample_to_image(image, reference_image, default_value=0., interpolator=sitk.sitkLinear, transform=None,\n",
    "                           output_pixel_type=None):\n",
    "    if transform is None:\n",
    "        transform = sitk.Transform()\n",
    "        transform.SetIdentity()\n",
    "    if output_pixel_type is None:\n",
    "        output_pixel_type = image.GetPixelID()\n",
    "    resample_filter = sitk.ResampleImageFilter()\n",
    "    resample_filter.SetInterpolator(interpolator)\n",
    "    resample_filter.SetTransform(transform)\n",
    "    resample_filter.SetOutputPixelType(output_pixel_type)\n",
    "    resample_filter.SetDefaultPixelValue(default_value)\n",
    "    resample_filter.SetReferenceImage(reference_image)\n",
    "    return resample_filter.Execute(image)\n",
    "\n",
    "def sitk_resample_to_spacing(image, new_spacing=(1.0, 1.0, 1.0), interpolator=sitk.sitkCosineWindowedSinc, default_value=0.):\n",
    "    zoom_factor = np.divide(image.GetSpacing(), new_spacing)\n",
    "    new_size = np.asarray(np.ceil(np.round(np.multiply(zoom_factor, image.GetSize()), decimals=5)), dtype=np.int16)\n",
    "    offset = calculate_origin_offset(new_spacing, image.GetSpacing())\n",
    "    reference_image = sitk_new_blank_image(size=new_size, spacing=new_spacing, direction=image.GetDirection(),\n",
    "                                           origin=image.GetOrigin() + offset, default_value=default_value)\n",
    "    return sitk_resample_to_image(image, reference_image, interpolator=interpolator, default_value=default_value)\n"
   ]
  },
  {
   "cell_type": "code",
   "execution_count": 12,
   "metadata": {},
   "outputs": [],
   "source": [
    "# 이미지 spacing 1.0,1.0,1.0으로 지정후 resample\n",
    "image_one_spacing = image.SetSpacing((1.0,1.0,1.0))\n",
    "#test_image = sitk_resample_to_spacing(image,(0.5,0.5,0.5))"
   ]
  },
  {
   "cell_type": "code",
   "execution_count": 13,
   "metadata": {},
   "outputs": [],
   "source": [
    "# 레이블 spacing 1.0,1.0,1.0 인 처음 상태에서 resample\n",
    "#test_label = sitk_resample_to_spacing(label,(0.5,0.5,0.5))"
   ]
  },
  {
   "cell_type": "code",
   "execution_count": 14,
   "metadata": {},
   "outputs": [],
   "source": [
    "# # 이미지 사이즈. 스페이싱 출력\n",
    "# print(test_image.GetSize())\n",
    "# print(test_image.GetSpacing())\n",
    "# print(resampled_img.GetSize())\n",
    "# print(resampled_img.GetSpacing())\n",
    "# myshow2d(test_image[:,:,100])\n",
    "# myshow2d(resampled_img[:,:,100])"
   ]
  },
  {
   "cell_type": "code",
   "execution_count": 15,
   "metadata": {},
   "outputs": [],
   "source": [
    "# resample 제작한 함수\n",
    "def resample_POS572(image, new_spacing):\n",
    "    # Output image Origin, Spacing, Size, Direction 들은 레퍼런스에서 가져옵니다.\n",
    "    transform = sitk.Transform(3, sitk.sitkIdentity)\n",
    "    interpolator = sitk.sitkCosineWindowedSinc\n",
    "    resize_factor=np.array(image.GetSpacing())/np.array(new_spacing)\n",
    "    new_real_shape = np.array(image.GetSize())*resize_factor\n",
    "    new_shape = np.array(np.round(new_real_shape),np.uint32)\n",
    "    new_size = (int(new_shape[0]),int(new_shape[1]),int(new_shape[2]))\n",
    "    origin = image.GetOrigin()\n",
    "    new_spacing = new_spacing\n",
    "    direction = image.GetDirection()\n",
    "    #return sitk.Resample(image, reference_image, transform, interpolator, default_value)\n",
    "    return sitk.Resample(image,new_size , transform, interpolator, origin, new_spacing, direction)"
   ]
  },
  {
   "cell_type": "code",
   "execution_count": null,
   "metadata": {},
   "outputs": [],
   "source": [
    "# 이미지데이터 0.5 spacing으로 resample하기\n",
    "resampled_img = sitk_resample_to_spacing(image,(0.5,0.5,0.5))"
   ]
  },
  {
   "cell_type": "code",
   "execution_count": null,
   "metadata": {},
   "outputs": [],
   "source": [
    "# 레이블 데이터 0.5 spacing으로 resample하기\n",
    "resampled_label = sitk_resample_to_spacing(label,(0.5,0.5,0.5))"
   ]
  },
  {
   "cell_type": "code",
   "execution_count": null,
   "metadata": {},
   "outputs": [],
   "source": [
    "print(resampled_img.GetSize())\n",
    "print(resampled_label.GetSize())"
   ]
  },
  {
   "cell_type": "code",
   "execution_count": null,
   "metadata": {
    "scrolled": true
   },
   "outputs": [],
   "source": [
    "# 이미지 확인 (axial)\n",
    "myshow2d(image[:,:,50],'image show')\n"
   ]
  },
  {
   "cell_type": "code",
   "execution_count": null,
   "metadata": {
    "scrolled": false
   },
   "outputs": [],
   "source": [
    "# resample된 이미지 확인(axial)\n",
    "myshow2d(resampled_img[:,:,30], 'resampled image show')\n"
   ]
  },
  {
   "cell_type": "code",
   "execution_count": null,
   "metadata": {},
   "outputs": [],
   "source": [
    "# 레이블 확인(axial)\n",
    "myshow2d(label[:,:,50],'label show')"
   ]
  },
  {
   "cell_type": "code",
   "execution_count": null,
   "metadata": {
    "scrolled": true
   },
   "outputs": [],
   "source": [
    "# resample된 레이블 확인(axial)\n",
    "myshow2d(resampled_label[:,:,100], 'resampled mask show')"
   ]
  },
  {
   "cell_type": "code",
   "execution_count": null,
   "metadata": {},
   "outputs": [],
   "source": [
    "# 512,512 사이즈로 resize해서 resample하기 \n",
    "def resample_resize2D(image, rc ):\n",
    "    rows=rc[0]\n",
    "    cols=rc[1]\n",
    "    #print(rows,cols)\n",
    "    newe_size= (rows,cols)\n",
    "    prior_cols=image.GetWidth()\n",
    "    prior_rows=image.GetHeight()\n",
    "    affine = sitk.AffineTransform(2)\n",
    "    matrix = np.array(affine.GetMatrix()).reshape((2,2))\n",
    "    matrix[0,0] = float(prior_cols)/cols\n",
    "    matrix[1,1]= float(prior_rows)/rows\n",
    "    affine.SetMatrix(matrix.ravel())\n",
    "    interpolator = sitk.sitkCosineWindowedSinc\n",
    "    origin = image.GetOrigin()\n",
    "    new_spacing = image.GetSpacing()\n",
    "    direction = image.GetDirection()\n",
    "    #return sitk.Resample(image, new_size , new_transform, interpolator, origin,new_spacing,direction)\n",
    "    return sitk.Resample(image,(512,512) , affine, interpolator, origin, new_spacing, direction)\n"
   ]
  },
  {
   "cell_type": "code",
   "execution_count": null,
   "metadata": {},
   "outputs": [],
   "source": [
    "# 512,512 사이즈로 resize해서 resample하기 \n",
    "def resample_resizeMask2D(image, rc ):\n",
    "    rows=rc[0]\n",
    "    cols=rc[1]\n",
    "    newe_size= (rows,cols)\n",
    "    prior_cols=image.GetWidth()\n",
    "    prior_rows=image.GetHeight()\n",
    "    affine = sitk.AffineTransform(2)\n",
    "    matrix = np.array(affine.GetMatrix()).reshape((2,2))\n",
    "    matrix[0,0] = float(prior_cols)/cols\n",
    "    matrix[1,1]= float(prior_rows)/rows\n",
    "    affine.SetMatrix(matrix.ravel())\n",
    "    interpolator = sitk.sitkCosineWindowedSinc\n",
    "    origin = image.GetOrigin()\n",
    "    new_spacing = image.GetSpacing()\n",
    "    direction = image.GetDirection()\n",
    "    #return sitk.Resample(image, new_size , new_transform, interpolator, origin,new_spacing,direction)\n",
    "    return sitk.Resample(image,(512,512) , affine, interpolator, origin, new_spacing, direction)"
   ]
  },
  {
   "cell_type": "code",
   "execution_count": null,
   "metadata": {},
   "outputs": [],
   "source": [
    "# class 4개(배경, LVM, LV, RV)로 배열 만들어 sitk로 반환하기\n",
    "def label_Mask_3ch(image):\n",
    "    width = image.GetSize()[0]\n",
    "    height = image.GetSize()[1]\n",
    "    rgbImage = sitk.LabelToRGB(image)\n",
    "    npImage = sitk.GetArrayFromImage(rgbImage)\n",
    "    LV , RV, LVM = np.array((0,0,255)), np.array((0,255,255)),np.array((0,205,0))  \n",
    "    background,red,green,blue = np.array((1,0,0,0)),np.array((0,1,0,0)),np.array((0,0,1,0)),np.array((0,0,0,1))\n",
    "    #print(npImage.shape)\n",
    "    for i in range(0,width):\n",
    "        for j in range(0,height):\n",
    "            if RV[1] == npImage[j,i][1]:\n",
    "                npImage[j,i]= blue\n",
    "            elif LV[1] == npImage[j,i][1] and LV[2]==npImage[j,i][2]:\n",
    "                npImage[j,i]= green\n",
    "            elif LVM[1] == npImage[j,i][1] and LVM[2]==npImage[j,i][2]:\n",
    "                npImage[j,i]= red\n",
    "            else:\n",
    "                npImage[j,i]=background\n",
    "    new_image = sitk.GetImageFromArray(npImage)\n",
    "    return new_image\n",
    "            "
   ]
  },
  {
   "cell_type": "code",
   "execution_count": null,
   "metadata": {},
   "outputs": [],
   "source": [
    "pos572_img_hu = sitk.Cast(sitk.IntensityWindowing(resampled_img,LowT,HighT,0,255),sitk.sitkUInt8)\n",
    "size3d = pos572_img_hu.GetSize()\n",
    "size2d = (size3d[0],size3d[1],0)\n",
    "size3d_label = resampled_label.GetSize()\n",
    "size2d_label = (size3d_label[0],size3d_label[1],0)\n",
    "outimg = sitk.Image(resampled_img.GetSize(),sitk.sitkUInt8)\n",
    "outimg.SetDirection(resampled_img.GetDirection())\n",
    "outimg.SetSpacing(resampled_img.GetSpacing())\n",
    "outimg.SetOrigin(resampled_img.GetOrigin())        \n",
    "outimage_array = sitk.GetArrayFromImage(outimg)\n",
    "        \n",
    "num_of_slices = pos572_img_hu.GetDepth()\n",
    "print(num_of_slices)\n",
    "test_index = 100\n",
    "#for i in range(num_of_slices):\n",
    "for i in range(test_index,test_index+1):\n",
    "    prev_idx = (0,0,i-displacement)\n",
    "    cur_idx = (0,0,i)\n",
    "    next_idx = (0,0,i+displacement)\n",
    "    \n",
    "    if(prev_idx[2]<0) or (next_idx[2]>=num_of_slices):\n",
    "        continue\n",
    "    \n",
    "    pre_image = sitk.Extract(pos572_img_hu,size2d,prev_idx)\n",
    "    cur_image = sitk.Extract(pos572_img_hu,size2d,cur_idx)\n",
    "    next_image = sitk.Extract(pos572_img_hu,size2d,next_idx)\n",
    "    \n",
    "    mask2d = sitk.Extract(resampled_label,size2d_label,cur_idx)\n",
    "    \n",
    "    #512 * 512로 추출한 영상들 resize 하기\n",
    "    prev_image_resample = resample_resize2D(pre_image,(img_rows,img_cols))\n",
    "    cur_image_resample = resample_resize2D(cur_image,(img_rows,img_cols))\n",
    "    next_image_resample = resample_resize2D(next_image,(img_rows,img_cols))\n",
    "    \n",
    "    mask2d_resample = resample_resizeMask2D(mask2d,(img_rows,img_cols))\n",
    "    mask_final = label_Mask_3ch(mask2d_resample)\n",
    "    rgbImage = sitk.Compose(prev_image_resample, cur_image_resample, next_image_resample)\n",
    "    \n",
    "    #print(sitk.GetArrayFromImage(prev_image_resample).shape)\n",
    "    #myshow2d(sitk.LabelToRGB(mask2d_resample))\n",
    "    myshow2d(mask_final)\n",
    "    print(pos572_img_hu.GetSize())\n",
    "    print(resampled_label.GetSize())\n",
    "    image_train_arr = sitk.GetArrayFromImage(rgbImage)\n",
    "    label_train_arr = sitk.GetArrayFromImage(mask_final)\n",
    "    \n",
    "    image_training = image_train_arr.reshape((1,img_rows,img_cols,3))\n",
    "    label_training = label_train_arr.reshape((1,img_rows,img_cols,n_class))\n",
    "    \n",
    "    myshow2d(cur_image_resample)\n",
    "    #myshow(sitk.LabelOverlay(cur_image_resample, mask2d_resample), title=\"Label Overlayed\")\n",
    "\n",
    "    #myshow(sitk.LabelOverlay(prev_image_resample, mask_final), title=\"Label Overlayed\")\n",
    "    #model.train_on_batch(image_training, label_training)\n",
    "    \n",
    "    \n",
    "    "
   ]
  },
  {
   "cell_type": "code",
   "execution_count": null,
   "metadata": {},
   "outputs": [],
   "source": [
    "compare_index =(test_index*pos572_img_hu.GetDepth())/image.GetDepth()\n",
    "print(int(compare_index) )\n",
    "#myshow2d(image[:,:,50])\n",
    "#myshow2d(label[:,:,50])\n",
    "#myshow2d(prev_image_resample)\n",
    "#myshow2d(pos572_img_hu[:,:,40])\n",
    "#myshow2d(resampled_img[:,:,40])\n",
    "#myshow2d(image[:,:,50])\n",
    "#myshow2d(image[:,:,int(compare_index)])\n",
    "#myshow2d(image[:,:,40])\n",
    "#myshow2d(label[:,:,40])\n",
    "print(prev_image_resample.GetSize())"
   ]
  },
  {
   "cell_type": "code",
   "execution_count": null,
   "metadata": {},
   "outputs": [],
   "source": [
    "if len(file_list_image)==len(file_list_label):\n",
    "    indices_t = len(file_name_image)\n",
    "    print(\"The image matches the label.\")\n",
    "else :\n",
    "    print(\"Image and label do not match\")"
   ]
  },
  {
   "cell_type": "code",
   "execution_count": null,
   "metadata": {},
   "outputs": [],
   "source": [
    "for epoch in range(20):\n",
    "    random.shuffle(indices_t)\n",
    "    #random.shuffle(indices_v)\n",
    "    for n in indices_t:\n",
    "        \n",
    "        input_img = sitk.ReadImage(file_name_image[n])\n",
    "        input_label = sitk.ReadImage(file_name_label[n])\n",
    "        \n",
    "        pos572_img = resample_POS572(input_img,(0.5,0.5,0.5))\n",
    "        pos572_label = resampleMask_POS572(input_label,(0.5,0.5,0.5))\n",
    "        \n",
    "        pos572_img_hu = sitk.Cast(sitk.IntensityWindowing(pos572_img,LowT,HighT,0,255),sitk.sitkUInt8)\n",
    "        \n",
    "        size3d = pos572_img_hu.GetSize()\n",
    "        size2d = (size3d[0],size3d[1],0)\n",
    "        \n",
    "        outimg = sitk.Image(pos572.GetSize().sitk.sitkUInt8)\n",
    "        outimg.SetDirection(pos572_img.GetDirection())\n",
    "        outimg.SetSpacing(pos572_img.GetSpacing())\n",
    "        outimg.SetOrigin(pos572_img.GetOrigin())\n",
    "        \n",
    "        outimage_array = sitk.GetArrayFromImage(outimg)\n",
    "        \n",
    "        num_of_slices = pos572_img_hu.GetDepth()"
   ]
  },
  {
   "cell_type": "code",
   "execution_count": null,
   "metadata": {},
   "outputs": [],
   "source": []
  },
  {
   "cell_type": "code",
   "execution_count": null,
   "metadata": {},
   "outputs": [],
   "source": []
  }
 ],
 "metadata": {
  "kernelspec": {
   "display_name": "Python 3",
   "language": "python",
   "name": "python3"
  },
  "language_info": {
   "codemirror_mode": {
    "name": "ipython",
    "version": 3
   },
   "file_extension": ".py",
   "mimetype": "text/x-python",
   "name": "python",
   "nbconvert_exporter": "python",
   "pygments_lexer": "ipython3",
   "version": "3.6.5"
  }
 },
 "nbformat": 4,
 "nbformat_minor": 2
}
