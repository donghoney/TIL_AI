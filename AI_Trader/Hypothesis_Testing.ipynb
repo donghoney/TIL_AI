{
 "cells": [
  {
   "cell_type": "code",
   "execution_count": 56,
   "metadata": {},
   "outputs": [],
   "source": [
    "import pandas as pd\n",
    "import numpy as np\n",
    "import matplotlib.pyplot as plt\n",
    "import scipy.stats as stats\n",
    "from datetime import datetime\n",
    "import datetime as dt\n",
    "import os"
   ]
  },
  {
   "cell_type": "markdown",
   "metadata": {},
   "source": [
    "### 가설 수립\n",
    "1. $H_0$ : KOSPI200의 주식의 평균 수익률이 0이하이다.\n",
    "2. $H_1$ : KOSPI200사의 주식의 평균 수익률이 0이상이다."
   ]
  },
  {
   "cell_type": "markdown",
   "metadata": {},
   "source": [
    "### read_csv() : csv 파일을 dataframe으로 불러오기"
   ]
  },
  {
   "cell_type": "code",
   "execution_count": 61,
   "metadata": {},
   "outputs": [],
   "source": [
    "def read_csv(path,code):\n",
    "    file_list=os.listdir(path)\n",
    "    for i in file_list:\n",
    "        if code in i:\n",
    "            print('opened  :',i)\n",
    "            return pd.read_csv(os.path.join(path,i))"
   ]
  },
  {
   "cell_type": "markdown",
   "metadata": {},
   "source": [
    "### read_KS200_symbol() : csv파일에서 KOSPI200 종목 리스트 반환하기"
   ]
  },
  {
   "cell_type": "code",
   "execution_count": 62,
   "metadata": {},
   "outputs": [],
   "source": [
    "def read_KS200_symbol(path,name):\n",
    "    temp_for_sort = []\n",
    "    file_path = os.path.join(path, name)\n",
    "    data_list=[]\n",
    "    with open(file_path, 'r', encoding='ms949') as in_file:\n",
    "        for sort_line in in_file:\n",
    "            sort_line=sort_line.strip('\\n')\n",
    "            data=sort_line.split(',')\n",
    "            data_list.append(data)\n",
    "\n",
    "    return data_list"
   ]
  },
  {
   "cell_type": "markdown",
   "metadata": {},
   "source": [
    "### csv 파일 불러오기"
   ]
  },
  {
   "cell_type": "code",
   "execution_count": 60,
   "metadata": {},
   "outputs": [
    {
     "name": "stdout",
     "output_type": "stream",
     "text": [
      "201\n",
      "opened  : SK하이닉스000660_2015-01-01_2019-01-26.csv\n"
     ]
    }
   ],
   "source": [
    "data_path = './data'\n",
    "KS200_name = 'KOSPI200.csv'\n",
    "KS200_list=read_KS200_symbol(data_path,KS200_name)\n",
    "print(len(KS200_list))\n",
    "df = read_csv(data_path, KS200_list[1][0])"
   ]
  },
  {
   "cell_type": "markdown",
   "metadata": {},
   "source": [
    "### datetime으로 Date 속성변환"
   ]
  },
  {
   "cell_type": "code",
   "execution_count": 68,
   "metadata": {},
   "outputs": [],
   "source": [
    "df['Date'] = pd.to_datetime(df['Date'])"
   ]
  },
  {
   "cell_type": "markdown",
   "metadata": {},
   "source": [
    "### Date 열을 index로 지정"
   ]
  },
  {
   "cell_type": "code",
   "execution_count": 69,
   "metadata": {
    "scrolled": true
   },
   "outputs": [],
   "source": [
    "df.set_index('Date',inplace=True)"
   ]
  },
  {
   "cell_type": "code",
   "execution_count": 70,
   "metadata": {},
   "outputs": [
    {
     "name": "stdout",
     "output_type": "stream",
     "text": [
      "<class 'pandas.core.frame.DataFrame'>\n",
      "DatetimeIndex: 999 entries, 2015-01-02 to 2019-01-25\n",
      "Data columns (total 6 columns):\n",
      "Open      999 non-null int64\n",
      "High      999 non-null int64\n",
      "Low       999 non-null int64\n",
      "Close     999 non-null int64\n",
      "Volume    999 non-null int64\n",
      "Change    999 non-null float64\n",
      "dtypes: float64(1), int64(5)\n",
      "memory usage: 54.6 KB\n"
     ]
    }
   ],
   "source": [
    "df.info()"
   ]
  },
  {
   "cell_type": "markdown",
   "metadata": {},
   "source": [
    "### index 확인"
   ]
  },
  {
   "cell_type": "code",
   "execution_count": 73,
   "metadata": {
    "scrolled": true
   },
   "outputs": [
    {
     "data": {
      "text/plain": [
       "pandas.core.indexes.datetimes.DatetimeIndex"
      ]
     },
     "execution_count": 73,
     "metadata": {},
     "output_type": "execute_result"
    }
   ],
   "source": [
    "type(df.index)"
   ]
  },
  {
   "cell_type": "code",
   "execution_count": 75,
   "metadata": {},
   "outputs": [
    {
     "data": {
      "text/html": [
       "<div>\n",
       "<style scoped>\n",
       "    .dataframe tbody tr th:only-of-type {\n",
       "        vertical-align: middle;\n",
       "    }\n",
       "\n",
       "    .dataframe tbody tr th {\n",
       "        vertical-align: top;\n",
       "    }\n",
       "\n",
       "    .dataframe thead th {\n",
       "        text-align: right;\n",
       "    }\n",
       "</style>\n",
       "<table border=\"1\" class=\"dataframe\">\n",
       "  <thead>\n",
       "    <tr style=\"text-align: right;\">\n",
       "      <th></th>\n",
       "      <th>Open</th>\n",
       "      <th>High</th>\n",
       "      <th>Low</th>\n",
       "      <th>Close</th>\n",
       "      <th>Volume</th>\n",
       "      <th>Change</th>\n",
       "    </tr>\n",
       "    <tr>\n",
       "      <th>Date</th>\n",
       "      <th></th>\n",
       "      <th></th>\n",
       "      <th></th>\n",
       "      <th></th>\n",
       "      <th></th>\n",
       "      <th></th>\n",
       "    </tr>\n",
       "  </thead>\n",
       "  <tbody>\n",
       "    <tr>\n",
       "      <th>2015-01-02</th>\n",
       "      <td>47950</td>\n",
       "      <td>48400</td>\n",
       "      <td>47650</td>\n",
       "      <td>47750</td>\n",
       "      <td>1155944</td>\n",
       "      <td>0.000000</td>\n",
       "    </tr>\n",
       "    <tr>\n",
       "      <th>2015-01-05</th>\n",
       "      <td>48050</td>\n",
       "      <td>48400</td>\n",
       "      <td>47500</td>\n",
       "      <td>47650</td>\n",
       "      <td>1409146</td>\n",
       "      <td>-0.002094</td>\n",
       "    </tr>\n",
       "    <tr>\n",
       "      <th>2015-01-06</th>\n",
       "      <td>47000</td>\n",
       "      <td>47600</td>\n",
       "      <td>46900</td>\n",
       "      <td>47500</td>\n",
       "      <td>1661196</td>\n",
       "      <td>-0.003148</td>\n",
       "    </tr>\n",
       "    <tr>\n",
       "      <th>2015-01-07</th>\n",
       "      <td>46700</td>\n",
       "      <td>47600</td>\n",
       "      <td>46700</td>\n",
       "      <td>47400</td>\n",
       "      <td>1821266</td>\n",
       "      <td>-0.002105</td>\n",
       "    </tr>\n",
       "    <tr>\n",
       "      <th>2015-01-08</th>\n",
       "      <td>48250</td>\n",
       "      <td>50000</td>\n",
       "      <td>47900</td>\n",
       "      <td>49950</td>\n",
       "      <td>5006675</td>\n",
       "      <td>0.053797</td>\n",
       "    </tr>\n",
       "  </tbody>\n",
       "</table>\n",
       "</div>"
      ],
      "text/plain": [
       "             Open   High    Low  Close   Volume    Change\n",
       "Date                                                     \n",
       "2015-01-02  47950  48400  47650  47750  1155944  0.000000\n",
       "2015-01-05  48050  48400  47500  47650  1409146 -0.002094\n",
       "2015-01-06  47000  47600  46900  47500  1661196 -0.003148\n",
       "2015-01-07  46700  47600  46700  47400  1821266 -0.002105\n",
       "2015-01-08  48250  50000  47900  49950  5006675  0.053797"
      ]
     },
     "execution_count": 75,
     "metadata": {},
     "output_type": "execute_result"
    }
   ],
   "source": [
    "df.head(5)"
   ]
  },
  {
   "cell_type": "markdown",
   "metadata": {},
   "source": [
    "### 시작지점과 끝지점 지정"
   ]
  },
  {
   "cell_type": "code",
   "execution_count": 78,
   "metadata": {},
   "outputs": [],
   "source": [
    "start = '20150102'\n",
    "end = '20180601'"
   ]
  },
  {
   "cell_type": "code",
   "execution_count": 82,
   "metadata": {
    "scrolled": true
   },
   "outputs": [],
   "source": [
    "KSFT=df[start:end]"
   ]
  },
  {
   "cell_type": "code",
   "execution_count": 83,
   "metadata": {},
   "outputs": [
    {
     "data": {
      "text/html": [
       "<div>\n",
       "<style scoped>\n",
       "    .dataframe tbody tr th:only-of-type {\n",
       "        vertical-align: middle;\n",
       "    }\n",
       "\n",
       "    .dataframe tbody tr th {\n",
       "        vertical-align: top;\n",
       "    }\n",
       "\n",
       "    .dataframe thead th {\n",
       "        text-align: right;\n",
       "    }\n",
       "</style>\n",
       "<table border=\"1\" class=\"dataframe\">\n",
       "  <thead>\n",
       "    <tr style=\"text-align: right;\">\n",
       "      <th></th>\n",
       "      <th>Open</th>\n",
       "      <th>High</th>\n",
       "      <th>Low</th>\n",
       "      <th>Close</th>\n",
       "      <th>Volume</th>\n",
       "      <th>Change</th>\n",
       "    </tr>\n",
       "    <tr>\n",
       "      <th>Date</th>\n",
       "      <th></th>\n",
       "      <th></th>\n",
       "      <th></th>\n",
       "      <th></th>\n",
       "      <th></th>\n",
       "      <th></th>\n",
       "    </tr>\n",
       "  </thead>\n",
       "  <tbody>\n",
       "    <tr>\n",
       "      <th>2015-01-02</th>\n",
       "      <td>47950</td>\n",
       "      <td>48400</td>\n",
       "      <td>47650</td>\n",
       "      <td>47750</td>\n",
       "      <td>1155944</td>\n",
       "      <td>0.000000</td>\n",
       "    </tr>\n",
       "    <tr>\n",
       "      <th>2015-01-05</th>\n",
       "      <td>48050</td>\n",
       "      <td>48400</td>\n",
       "      <td>47500</td>\n",
       "      <td>47650</td>\n",
       "      <td>1409146</td>\n",
       "      <td>-0.002094</td>\n",
       "    </tr>\n",
       "    <tr>\n",
       "      <th>2015-01-06</th>\n",
       "      <td>47000</td>\n",
       "      <td>47600</td>\n",
       "      <td>46900</td>\n",
       "      <td>47500</td>\n",
       "      <td>1661196</td>\n",
       "      <td>-0.003148</td>\n",
       "    </tr>\n",
       "    <tr>\n",
       "      <th>2015-01-07</th>\n",
       "      <td>46700</td>\n",
       "      <td>47600</td>\n",
       "      <td>46700</td>\n",
       "      <td>47400</td>\n",
       "      <td>1821266</td>\n",
       "      <td>-0.002105</td>\n",
       "    </tr>\n",
       "    <tr>\n",
       "      <th>2015-01-08</th>\n",
       "      <td>48250</td>\n",
       "      <td>50000</td>\n",
       "      <td>47900</td>\n",
       "      <td>49950</td>\n",
       "      <td>5006675</td>\n",
       "      <td>0.053797</td>\n",
       "    </tr>\n",
       "    <tr>\n",
       "      <th>2015-01-09</th>\n",
       "      <td>50700</td>\n",
       "      <td>51400</td>\n",
       "      <td>49700</td>\n",
       "      <td>49700</td>\n",
       "      <td>3313929</td>\n",
       "      <td>-0.005005</td>\n",
       "    </tr>\n",
       "    <tr>\n",
       "      <th>2015-01-12</th>\n",
       "      <td>50000</td>\n",
       "      <td>50500</td>\n",
       "      <td>49450</td>\n",
       "      <td>50300</td>\n",
       "      <td>1709997</td>\n",
       "      <td>0.012072</td>\n",
       "    </tr>\n",
       "    <tr>\n",
       "      <th>2015-01-13</th>\n",
       "      <td>48500</td>\n",
       "      <td>49650</td>\n",
       "      <td>48500</td>\n",
       "      <td>49000</td>\n",
       "      <td>3047952</td>\n",
       "      <td>-0.025845</td>\n",
       "    </tr>\n",
       "    <tr>\n",
       "      <th>2015-01-14</th>\n",
       "      <td>48900</td>\n",
       "      <td>49850</td>\n",
       "      <td>48850</td>\n",
       "      <td>48900</td>\n",
       "      <td>2241954</td>\n",
       "      <td>-0.002041</td>\n",
       "    </tr>\n",
       "    <tr>\n",
       "      <th>2015-01-15</th>\n",
       "      <td>48900</td>\n",
       "      <td>49500</td>\n",
       "      <td>48850</td>\n",
       "      <td>49500</td>\n",
       "      <td>1468474</td>\n",
       "      <td>0.012270</td>\n",
       "    </tr>\n",
       "  </tbody>\n",
       "</table>\n",
       "</div>"
      ],
      "text/plain": [
       "             Open   High    Low  Close   Volume    Change\n",
       "Date                                                     \n",
       "2015-01-02  47950  48400  47650  47750  1155944  0.000000\n",
       "2015-01-05  48050  48400  47500  47650  1409146 -0.002094\n",
       "2015-01-06  47000  47600  46900  47500  1661196 -0.003148\n",
       "2015-01-07  46700  47600  46700  47400  1821266 -0.002105\n",
       "2015-01-08  48250  50000  47900  49950  5006675  0.053797\n",
       "2015-01-09  50700  51400  49700  49700  3313929 -0.005005\n",
       "2015-01-12  50000  50500  49450  50300  1709997  0.012072\n",
       "2015-01-13  48500  49650  48500  49000  3047952 -0.025845\n",
       "2015-01-14  48900  49850  48850  48900  2241954 -0.002041\n",
       "2015-01-15  48900  49500  48850  49500  1468474  0.012270"
      ]
     },
     "execution_count": 83,
     "metadata": {},
     "output_type": "execute_result"
    }
   ],
   "source": [
    "KSFT.head(10)"
   ]
  },
  {
   "cell_type": "markdown",
   "metadata": {},
   "source": [
    "날짜별 수익률을 구한다."
   ]
  },
  {
   "cell_type": "code",
   "execution_count": 84,
   "metadata": {},
   "outputs": [],
   "source": [
    "price = KSFT['Close']\n",
    "returns = price.pct_change()[1:]"
   ]
  },
  {
   "cell_type": "code",
   "execution_count": 99,
   "metadata": {
    "scrolled": true
   },
   "outputs": [
    {
     "data": {
      "text/plain": [
       "Date\n",
       "2015-01-05   -0.002094\n",
       "2015-01-06   -0.003148\n",
       "2015-01-07   -0.002105\n",
       "2015-01-08    0.053797\n",
       "2015-01-09   -0.005005\n",
       "2015-01-12    0.012072\n",
       "2015-01-13   -0.025845\n",
       "2015-01-14   -0.002041\n",
       "2015-01-15    0.012270\n",
       "2015-01-16   -0.041414\n",
       "2015-01-19   -0.009484\n",
       "2015-01-20    0.001064\n",
       "2015-01-21    0.021254\n",
       "2015-01-22   -0.021852\n",
       "2015-01-23    0.010638\n",
       "2015-01-26    0.015789\n",
       "2015-01-27    0.018653\n",
       "2015-01-28    0.001017\n",
       "2015-01-29   -0.036585\n",
       "2015-01-30    0.005274\n",
       "2015-02-02   -0.022036\n",
       "2015-02-03    0.002146\n",
       "2015-02-04    0.012848\n",
       "2015-02-05   -0.003171\n",
       "2015-02-06   -0.034995\n",
       "2015-02-09   -0.006593\n",
       "2015-02-10   -0.001106\n",
       "2015-02-11    0.037652\n",
       "2015-02-12   -0.004269\n",
       "2015-02-13    0.008574\n",
       "                ...   \n",
       "2018-04-18    0.021739\n",
       "2018-04-19    0.039007\n",
       "2018-04-20   -0.039818\n",
       "2018-04-23    0.000000\n",
       "2018-04-24   -0.027251\n",
       "2018-04-25    0.003654\n",
       "2018-04-26    0.049757\n",
       "2018-04-27    0.006936\n",
       "2018-04-30   -0.029851\n",
       "2018-05-02   -0.016568\n",
       "2018-05-03   -0.002407\n",
       "2018-05-04    0.001206\n",
       "2018-05-08    0.006024\n",
       "2018-05-09   -0.001198\n",
       "2018-05-10    0.028777\n",
       "2018-05-11    0.003497\n",
       "2018-05-14   -0.008130\n",
       "2018-05-15   -0.009368\n",
       "2018-05-16    0.028369\n",
       "2018-05-17   -0.003448\n",
       "2018-05-18    0.013841\n",
       "2018-05-21    0.013652\n",
       "2018-05-23    0.069585\n",
       "2018-05-24   -0.007345\n",
       "2018-05-25    0.006342\n",
       "2018-05-28   -0.007353\n",
       "2018-05-29    0.003175\n",
       "2018-05-30    0.002110\n",
       "2018-05-31   -0.016842\n",
       "2018-06-01   -0.021413\n",
       "Name: Close, Length: 839, dtype: float64"
      ]
     },
     "execution_count": 99,
     "metadata": {},
     "output_type": "execute_result"
    }
   ],
   "source": [
    "returns"
   ]
  },
  {
   "cell_type": "code",
   "execution_count": 85,
   "metadata": {
    "scrolled": true
   },
   "outputs": [
    {
     "data": {
      "text/plain": [
       "Date\n",
       "2015-01-02    47750\n",
       "2015-01-05    47650\n",
       "2015-01-06    47500\n",
       "2015-01-07    47400\n",
       "2015-01-08    49950\n",
       "2015-01-09    49700\n",
       "2015-01-12    50300\n",
       "2015-01-13    49000\n",
       "2015-01-14    48900\n",
       "2015-01-15    49500\n",
       "2015-01-16    47450\n",
       "2015-01-19    47000\n",
       "2015-01-20    47050\n",
       "2015-01-21    48050\n",
       "2015-01-22    47000\n",
       "2015-01-23    47500\n",
       "2015-01-26    48250\n",
       "2015-01-27    49150\n",
       "2015-01-28    49200\n",
       "2015-01-29    47400\n",
       "2015-01-30    47650\n",
       "2015-02-02    46600\n",
       "2015-02-03    46700\n",
       "2015-02-04    47300\n",
       "2015-02-05    47150\n",
       "2015-02-06    45500\n",
       "2015-02-09    45200\n",
       "2015-02-10    45150\n",
       "2015-02-11    46850\n",
       "2015-02-12    46650\n",
       "              ...  \n",
       "2018-04-18    84600\n",
       "2018-04-19    87900\n",
       "2018-04-20    84400\n",
       "2018-04-23    84400\n",
       "2018-04-24    82100\n",
       "2018-04-25    82400\n",
       "2018-04-26    86500\n",
       "2018-04-27    87100\n",
       "2018-04-30    84500\n",
       "2018-05-02    83100\n",
       "2018-05-03    82900\n",
       "2018-05-04    83000\n",
       "2018-05-08    83500\n",
       "2018-05-09    83400\n",
       "2018-05-10    85800\n",
       "2018-05-11    86100\n",
       "2018-05-14    85400\n",
       "2018-05-15    84600\n",
       "2018-05-16    87000\n",
       "2018-05-17    86700\n",
       "2018-05-18    87900\n",
       "2018-05-21    89100\n",
       "2018-05-23    95300\n",
       "2018-05-24    94600\n",
       "2018-05-25    95200\n",
       "2018-05-28    94500\n",
       "2018-05-29    94800\n",
       "2018-05-30    95000\n",
       "2018-05-31    93400\n",
       "2018-06-01    91400\n",
       "Name: Close, Length: 840, dtype: int64"
      ]
     },
     "execution_count": 85,
     "metadata": {},
     "output_type": "execute_result"
    }
   ],
   "source": [
    "price"
   ]
  },
  {
   "cell_type": "code",
   "execution_count": 87,
   "metadata": {},
   "outputs": [
    {
     "data": {
      "image/png": "[encoded data removed]",
      "text/plain": [
       "<Figure size 432x288 with 1 Axes>"
      ]
     },
     "metadata": {},
     "output_type": "display_data"
    }
   ],
   "source": [
    "plt.plot(price)\n",
    "plt.grid()\n",
    "plt.ylabel('Price')\n",
    "plt.show()"
   ]
  },
  {
   "cell_type": "code",
   "execution_count": 88,
   "metadata": {},
   "outputs": [
    {
     "data": {
      "image/png": "[encoded data removed]",
      "text/plain": [
       "<Figure size 432x288 with 1 Axes>"
      ]
     },
     "metadata": {},
     "output_type": "display_data"
    }
   ],
   "source": [
    "plt.plot(returns)\n",
    "plt.grid()\n",
    "plt.ylabel('Returns')\n",
    "plt.show()"
   ]
  },
  {
   "cell_type": "code",
   "execution_count": 89,
   "metadata": {},
   "outputs": [
    {
     "data": {
      "image/png": "[encoded data removed]",
      "text/plain": [
       "<Figure size 432x288 with 1 Axes>"
      ]
     },
     "metadata": {},
     "output_type": "display_data"
    }
   ],
   "source": [
    "x = np.linspace(-3,3,100)\n",
    "norm_pdf = lambda x : (1/np.sqrt(2*np.pi))* np.exp(-x * x / 2 )\n",
    "y = norm_pdf(x)\n",
    "\n",
    "fig, ax = plt.subplots(1, 1, sharex=True)\n",
    "ax.plot(x, y)\n",
    "ax.fill_between(x, 0, y, where = x > 1.96, color='blue')\n",
    "ax.fill_between(x, 0, y, where = x < -1.96, color='blue')\n",
    "plt.plot([1.96,1.96],[0,0.5], 'r--')\n",
    "plt.plot([-1.96,-1.96],[0,0.5], 'r--')\n",
    "plt.title('Rejection regions for a two-tailed hypothesis test at 95% confidence')\n",
    "plt.xlabel('x')\n",
    "plt.ylabel('p(x)')\n",
    "plt.xlim(-3,3)\n",
    "plt.ylim(0,0.5)\n",
    "plt.show()"
   ]
  },
  {
   "cell_type": "markdown",
   "metadata": {},
   "source": [
    "수익률의 통계량 계산"
   ]
  },
  {
   "cell_type": "code",
   "execution_count": 90,
   "metadata": {},
   "outputs": [
    {
     "name": "stdout",
     "output_type": "stream",
     "text": [
      "t test statistic:  1.3373448720489094\n"
     ]
    }
   ],
   "source": [
    "n = len(returns)\n",
    "test_statistic = ((returns.mean() - 0) /\n",
    "                (returns.std()/np.sqrt(n-1)))\n",
    "print ('t test statistic: ', test_statistic)"
   ]
  },
  {
   "cell_type": "code",
   "execution_count": 97,
   "metadata": {},
   "outputs": [
    {
     "name": "stdout",
     "output_type": "stream",
     "text": [
      "P-value is:  0.0905550451347017\n"
     ]
    }
   ],
   "source": [
    "from scipy.stats import norm\n",
    "p_val = (1 - norm.cdf(test_statistic,0,1))\n",
    "print('P-value is: ', p_val)"
   ]
  },
  {
   "cell_type": "markdown",
   "metadata": {},
   "source": [
    "P-value가 0.05보다 크면, $H_0$를 기각할 수 없다."
   ]
  },
  {
   "cell_type": "markdown",
   "metadata": {},
   "source": [
    "P-value가 0.05보다 작거나 같으면, $H_0$를 기각할 수 있다."
   ]
  },
  {
   "cell_type": "markdown",
   "metadata": {},
   "source": [
    "## 두 집단의 평균 비교\n",
    "해당 회사의 주식의 평균 수익률이 시장의 평균 수익률이 다른지 검증"
   ]
  },
  {
   "cell_type": "markdown",
   "metadata": {},
   "source": [
    "### 가설 수립\n",
    "1. $H_0$ : 해당 사의 주식의 평균 수익률에서 시장의 평균 수익률을 뺀 값이 0이다.\n",
    "2. $H_1$ : 해당 사의 주식의 평균 수익률에서 시장의 평균 수익률을 뺀 값은 0이 아니다."
   ]
  },
  {
   "cell_type": "markdown",
   "metadata": {},
   "source": [
    "데이터 불러오기 & 수익률 계산"
   ]
  },
  {
   "cell_type": "code",
   "execution_count": 137,
   "metadata": {},
   "outputs": [
    {
     "name": "stdout",
     "output_type": "stream",
     "text": [
      "opened  : KS200_jisu.csv\n"
     ]
    }
   ],
   "source": [
    "KS200_jisu_name = 'KS200_jisu.csv'\n",
    "KS200_jisu = read_csv(data_path,KS200_jisu_name)"
   ]
  },
  {
   "cell_type": "markdown",
   "metadata": {},
   "source": [
    "[('068270', '셀트리온', 0.004444364966465275), ('207940', '삼성바이오로직스', 0.010749076001136615), ('128940', '한미약품', 0.01952640451869525), ('008930', '한미사이언스', 0.02435948450685177), ('096770', 'SK이노베이션', 0.04267690741619845), ('009150', '삼성전기', 0.04356475253752601), ('069620', '대웅제약', 0.047869305443164145)]\n"
   ]
  },
  {
   "cell_type": "code",
   "execution_count": 138,
   "metadata": {
    "scrolled": true
   },
   "outputs": [
    {
     "name": "stdout",
     "output_type": "stream",
     "text": [
      "opened  : 셀트리온068270_2015-01-01_2019-01-26.csv\n"
     ]
    },
    {
     "data": {
      "text/html": [
       "<div>\n",
       "<style scoped>\n",
       "    .dataframe tbody tr th:only-of-type {\n",
       "        vertical-align: middle;\n",
       "    }\n",
       "\n",
       "    .dataframe tbody tr th {\n",
       "        vertical-align: top;\n",
       "    }\n",
       "\n",
       "    .dataframe thead th {\n",
       "        text-align: right;\n",
       "    }\n",
       "</style>\n",
       "<table border=\"1\" class=\"dataframe\">\n",
       "  <thead>\n",
       "    <tr style=\"text-align: right;\">\n",
       "      <th></th>\n",
       "      <th>Date</th>\n",
       "      <th>Open</th>\n",
       "      <th>High</th>\n",
       "      <th>Low</th>\n",
       "      <th>Close</th>\n",
       "      <th>Volume</th>\n",
       "      <th>Change</th>\n",
       "    </tr>\n",
       "  </thead>\n",
       "  <tbody>\n",
       "    <tr>\n",
       "      <th>0</th>\n",
       "      <td>2015-01-02</td>\n",
       "      <td>35438</td>\n",
       "      <td>35848</td>\n",
       "      <td>35258</td>\n",
       "      <td>35532</td>\n",
       "      <td>209680</td>\n",
       "      <td>0.007714</td>\n",
       "    </tr>\n",
       "    <tr>\n",
       "      <th>1</th>\n",
       "      <td>2015-01-05</td>\n",
       "      <td>35395</td>\n",
       "      <td>35576</td>\n",
       "      <td>35077</td>\n",
       "      <td>35350</td>\n",
       "      <td>168975</td>\n",
       "      <td>-0.005122</td>\n",
       "    </tr>\n",
       "    <tr>\n",
       "      <th>2</th>\n",
       "      <td>2015-01-06</td>\n",
       "      <td>34941</td>\n",
       "      <td>35121</td>\n",
       "      <td>34396</td>\n",
       "      <td>34715</td>\n",
       "      <td>271199</td>\n",
       "      <td>-0.017963</td>\n",
       "    </tr>\n",
       "    <tr>\n",
       "      <th>3</th>\n",
       "      <td>2015-01-07</td>\n",
       "      <td>34578</td>\n",
       "      <td>34805</td>\n",
       "      <td>34396</td>\n",
       "      <td>34397</td>\n",
       "      <td>169967</td>\n",
       "      <td>-0.009160</td>\n",
       "    </tr>\n",
       "    <tr>\n",
       "      <th>4</th>\n",
       "      <td>2015-01-08</td>\n",
       "      <td>34622</td>\n",
       "      <td>35213</td>\n",
       "      <td>34395</td>\n",
       "      <td>34579</td>\n",
       "      <td>225169</td>\n",
       "      <td>0.005291</td>\n",
       "    </tr>\n",
       "  </tbody>\n",
       "</table>\n",
       "</div>"
      ],
      "text/plain": [
       "         Date   Open   High    Low  Close  Volume    Change\n",
       "0  2015-01-02  35438  35848  35258  35532  209680  0.007714\n",
       "1  2015-01-05  35395  35576  35077  35350  168975 -0.005122\n",
       "2  2015-01-06  34941  35121  34396  34715  271199 -0.017963\n",
       "3  2015-01-07  34578  34805  34396  34397  169967 -0.009160\n",
       "4  2015-01-08  34622  35213  34395  34579  225169  0.005291"
      ]
     },
     "execution_count": 138,
     "metadata": {},
     "output_type": "execute_result"
    }
   ],
   "source": [
    "seltrion = read_csv(data_path,'068270')\n",
    "seltrion.head(5)"
   ]
  },
  {
   "cell_type": "code",
   "execution_count": 139,
   "metadata": {},
   "outputs": [],
   "source": [
    "KS200_jisu['Date'] = pd.to_datetime(KS200_jisu['Date'])\n",
    "KS200_jisu.set_index('Date',inplace=True)\n",
    "\n",
    "seltrion['Date'] = pd.to_datetime(seltrion['Date'])\n",
    "seltrion.set_index('Date',inplace=True)\n",
    "\n",
    "start = '20150102'\n",
    "end = '20180601'\n",
    "\n",
    "KSFT = KS200_jisu[start:end]\n",
    "SELFT = seltrion[start:end]"
   ]
  },
  {
   "cell_type": "code",
   "execution_count": 140,
   "metadata": {},
   "outputs": [
    {
     "data": {
      "text/html": [
       "<div>\n",
       "<style scoped>\n",
       "    .dataframe tbody tr th:only-of-type {\n",
       "        vertical-align: middle;\n",
       "    }\n",
       "\n",
       "    .dataframe tbody tr th {\n",
       "        vertical-align: top;\n",
       "    }\n",
       "\n",
       "    .dataframe thead th {\n",
       "        text-align: right;\n",
       "    }\n",
       "</style>\n",
       "<table border=\"1\" class=\"dataframe\">\n",
       "  <thead>\n",
       "    <tr style=\"text-align: right;\">\n",
       "      <th></th>\n",
       "      <th>Close</th>\n",
       "      <th>Open</th>\n",
       "      <th>High</th>\n",
       "      <th>Low</th>\n",
       "      <th>Volume</th>\n",
       "      <th>Change</th>\n",
       "    </tr>\n",
       "    <tr>\n",
       "      <th>Date</th>\n",
       "      <th></th>\n",
       "      <th></th>\n",
       "      <th></th>\n",
       "      <th></th>\n",
       "      <th></th>\n",
       "      <th></th>\n",
       "    </tr>\n",
       "  </thead>\n",
       "  <tbody>\n",
       "    <tr>\n",
       "      <th>2015-01-02</th>\n",
       "      <td>244.79</td>\n",
       "      <td>243.96</td>\n",
       "      <td>245.32</td>\n",
       "      <td>243.25</td>\n",
       "      <td>54150.0</td>\n",
       "      <td>0.0030</td>\n",
       "    </tr>\n",
       "    <tr>\n",
       "      <th>2015-01-05</th>\n",
       "      <td>244.26</td>\n",
       "      <td>243.83</td>\n",
       "      <td>244.56</td>\n",
       "      <td>241.76</td>\n",
       "      <td>62850.0</td>\n",
       "      <td>-0.0022</td>\n",
       "    </tr>\n",
       "    <tr>\n",
       "      <th>2015-01-06</th>\n",
       "      <td>239.93</td>\n",
       "      <td>241.36</td>\n",
       "      <td>242.06</td>\n",
       "      <td>239.32</td>\n",
       "      <td>66250.0</td>\n",
       "      <td>-0.0177</td>\n",
       "    </tr>\n",
       "    <tr>\n",
       "      <th>2015-01-07</th>\n",
       "      <td>240.53</td>\n",
       "      <td>239.41</td>\n",
       "      <td>240.91</td>\n",
       "      <td>239.09</td>\n",
       "      <td>54600.0</td>\n",
       "      <td>0.0025</td>\n",
       "    </tr>\n",
       "    <tr>\n",
       "      <th>2015-01-08</th>\n",
       "      <td>243.94</td>\n",
       "      <td>242.28</td>\n",
       "      <td>244.13</td>\n",
       "      <td>241.68</td>\n",
       "      <td>64020.0</td>\n",
       "      <td>0.0142</td>\n",
       "    </tr>\n",
       "  </tbody>\n",
       "</table>\n",
       "</div>"
      ],
      "text/plain": [
       "             Close    Open    High     Low   Volume  Change\n",
       "Date                                                       \n",
       "2015-01-02  244.79  243.96  245.32  243.25  54150.0  0.0030\n",
       "2015-01-05  244.26  243.83  244.56  241.76  62850.0 -0.0022\n",
       "2015-01-06  239.93  241.36  242.06  239.32  66250.0 -0.0177\n",
       "2015-01-07  240.53  239.41  240.91  239.09  54600.0  0.0025\n",
       "2015-01-08  243.94  242.28  244.13  241.68  64020.0  0.0142"
      ]
     },
     "execution_count": 140,
     "metadata": {},
     "output_type": "execute_result"
    }
   ],
   "source": [
    "KSFT.head(5)"
   ]
  },
  {
   "cell_type": "code",
   "execution_count": 141,
   "metadata": {},
   "outputs": [
    {
     "name": "stdout",
     "output_type": "stream",
     "text": [
      "840\n"
     ]
    }
   ],
   "source": [
    "print(KSFT.shape[0])"
   ]
  },
  {
   "cell_type": "code",
   "execution_count": 142,
   "metadata": {
    "scrolled": true
   },
   "outputs": [
    {
     "data": {
      "text/html": [
       "<div>\n",
       "<style scoped>\n",
       "    .dataframe tbody tr th:only-of-type {\n",
       "        vertical-align: middle;\n",
       "    }\n",
       "\n",
       "    .dataframe tbody tr th {\n",
       "        vertical-align: top;\n",
       "    }\n",
       "\n",
       "    .dataframe thead th {\n",
       "        text-align: right;\n",
       "    }\n",
       "</style>\n",
       "<table border=\"1\" class=\"dataframe\">\n",
       "  <thead>\n",
       "    <tr style=\"text-align: right;\">\n",
       "      <th></th>\n",
       "      <th>Open</th>\n",
       "      <th>High</th>\n",
       "      <th>Low</th>\n",
       "      <th>Close</th>\n",
       "      <th>Volume</th>\n",
       "      <th>Change</th>\n",
       "    </tr>\n",
       "    <tr>\n",
       "      <th>Date</th>\n",
       "      <th></th>\n",
       "      <th></th>\n",
       "      <th></th>\n",
       "      <th></th>\n",
       "      <th></th>\n",
       "      <th></th>\n",
       "    </tr>\n",
       "  </thead>\n",
       "  <tbody>\n",
       "    <tr>\n",
       "      <th>2015-01-02</th>\n",
       "      <td>35438</td>\n",
       "      <td>35848</td>\n",
       "      <td>35258</td>\n",
       "      <td>35532</td>\n",
       "      <td>209680</td>\n",
       "      <td>0.007714</td>\n",
       "    </tr>\n",
       "    <tr>\n",
       "      <th>2015-01-05</th>\n",
       "      <td>35395</td>\n",
       "      <td>35576</td>\n",
       "      <td>35077</td>\n",
       "      <td>35350</td>\n",
       "      <td>168975</td>\n",
       "      <td>-0.005122</td>\n",
       "    </tr>\n",
       "    <tr>\n",
       "      <th>2015-01-06</th>\n",
       "      <td>34941</td>\n",
       "      <td>35121</td>\n",
       "      <td>34396</td>\n",
       "      <td>34715</td>\n",
       "      <td>271199</td>\n",
       "      <td>-0.017963</td>\n",
       "    </tr>\n",
       "    <tr>\n",
       "      <th>2015-01-07</th>\n",
       "      <td>34578</td>\n",
       "      <td>34805</td>\n",
       "      <td>34396</td>\n",
       "      <td>34397</td>\n",
       "      <td>169967</td>\n",
       "      <td>-0.009160</td>\n",
       "    </tr>\n",
       "    <tr>\n",
       "      <th>2015-01-08</th>\n",
       "      <td>34622</td>\n",
       "      <td>35213</td>\n",
       "      <td>34395</td>\n",
       "      <td>34579</td>\n",
       "      <td>225169</td>\n",
       "      <td>0.005291</td>\n",
       "    </tr>\n",
       "  </tbody>\n",
       "</table>\n",
       "</div>"
      ],
      "text/plain": [
       "             Open   High    Low  Close  Volume    Change\n",
       "Date                                                    \n",
       "2015-01-02  35438  35848  35258  35532  209680  0.007714\n",
       "2015-01-05  35395  35576  35077  35350  168975 -0.005122\n",
       "2015-01-06  34941  35121  34396  34715  271199 -0.017963\n",
       "2015-01-07  34578  34805  34396  34397  169967 -0.009160\n",
       "2015-01-08  34622  35213  34395  34579  225169  0.005291"
      ]
     },
     "execution_count": 142,
     "metadata": {},
     "output_type": "execute_result"
    }
   ],
   "source": [
    "SELFT.head(5)"
   ]
  },
  {
   "cell_type": "code",
   "execution_count": 143,
   "metadata": {},
   "outputs": [
    {
     "name": "stdout",
     "output_type": "stream",
     "text": [
      "840\n"
     ]
    }
   ],
   "source": [
    "print(SELFT.shape[0])"
   ]
  },
  {
   "cell_type": "code",
   "execution_count": 146,
   "metadata": {},
   "outputs": [],
   "source": [
    "KS200_jisu_price = KSFT['Close']\n",
    "seltrion_price = SELFT['Close']\n",
    "KS200_jisu_returns = KS200_jisu_price.pct_change()[1:]\n",
    "seltrion_returns = seltrion_price.pct_change()[1:]"
   ]
  },
  {
   "cell_type": "code",
   "execution_count": 147,
   "metadata": {},
   "outputs": [
    {
     "data": {
      "image/png": "[encoded data removed]",
      "text/plain": [
       "<Figure size 1080x504 with 1 Axes>"
      ]
     },
     "metadata": {},
     "output_type": "display_data"
    }
   ],
   "source": [
    "plt.figure(1, figsize = (15, 7))\n",
    "plt.plot(KS200_jisu_returns,label='KOSPI200', color = 'blue')\n",
    "plt.plot(seltrion_returns,label='SELTRION', color = 'orange')\n",
    "plt.grid()\n",
    "plt.ylabel('Returns')\n",
    "plt.legend()\n",
    "plt.show()"
   ]
  },
  {
   "cell_type": "code",
   "execution_count": 150,
   "metadata": {},
   "outputs": [
    {
     "name": "stdout",
     "output_type": "stream",
     "text": [
      "t test statistic:  2.2608362221593956\n",
      "Degrees of freedom (modified):  938.272457914015\n"
     ]
    }
   ],
   "source": [
    "mu_KS200 = KS200_jisu_returns.mean()\n",
    "mu_seltrion = seltrion_returns.mean()\n",
    "s_KS200 = KS200_jisu_returns.std()\n",
    "s_seltrion = seltrion_returns.std()\n",
    "\n",
    "n_KS200 = len(KS200_jisu_returns)\n",
    "n_seltrion = len(seltrion_returns)\n",
    "\n",
    "test_statistic = ((mu_seltrion - mu_KS200) - 0)/((s_KS200**2/n_KS200) + (s_seltrion**2/n_seltrion))**0.5\n",
    "df = ((s_KS200**2/n_KS200) + (s_seltrion**2/n_seltrion))**2/(((s_KS200**2 / n_KS200)**2 /n_KS200)+((s_seltrion**2 / n_seltrion)**2/n_seltrion))\n",
    "\n",
    "print('t test statistic: ', test_statistic)\n",
    "print('Degrees of freedom (modified): ', df)"
   ]
  },
  {
   "cell_type": "code",
   "execution_count": 155,
   "metadata": {},
   "outputs": [
    {
     "name": "stdout",
     "output_type": "stream",
     "text": [
      "P-value is:  0.01188470033733291\n"
     ]
    }
   ],
   "source": [
    "from scipy.stats import norm\n",
    "p_val = (1 - norm.cdf(test_statistic,0,1))\n",
    "print('P-value is: ', p_val)"
   ]
  },
  {
   "cell_type": "markdown",
   "metadata": {},
   "source": [
    "자유도가 매우 높을 때(>30)의 t-distribution은 정규분포에 근사하므로, 신뢰도 95% 구간은 [-1.96,1.96]이다. 따라서, 귀무가설을 기각할 수 있다.(셀트리온)"
   ]
  },
  {
   "cell_type": "markdown",
   "metadata": {},
   "source": [
    "### 실험의 반복"
   ]
  },
  {
   "cell_type": "markdown",
   "metadata": {},
   "source": [
    "$H_0$를 기각했을 때, 실제로 $H_0$인 경우를 제 1종 오류(Type 1 error)라고 한다. Type 1 error의 확률은 유의수준(siginificant level)과 같다. 실제로 Type 1 error가 나올 확률이 유의 수준과 같은지 확인해 보자."
   ]
  },
  {
   "cell_type": "code",
   "execution_count": 153,
   "metadata": {},
   "outputs": [],
   "source": [
    "df = pd.DataFrame()\n",
    "T = 20\n",
    "N = 100\n",
    "\n",
    "for i in range(T):\n",
    "    X = stats.norm.rvs(0, 1, N)\n",
    "    name = 'X{}'.format(i)\n",
    "    df[name] = X"
   ]
  },
  {
   "cell_type": "code",
   "execution_count": 154,
   "metadata": {},
   "outputs": [
    {
     "data": {
      "text/html": [
       "<div>\n",
       "<style scoped>\n",
       "    .dataframe tbody tr th:only-of-type {\n",
       "        vertical-align: middle;\n",
       "    }\n",
       "\n",
       "    .dataframe tbody tr th {\n",
       "        vertical-align: top;\n",
       "    }\n",
       "\n",
       "    .dataframe thead th {\n",
       "        text-align: right;\n",
       "    }\n",
       "</style>\n",
       "<table border=\"1\" class=\"dataframe\">\n",
       "  <thead>\n",
       "    <tr style=\"text-align: right;\">\n",
       "      <th></th>\n",
       "      <th>X0</th>\n",
       "      <th>X1</th>\n",
       "      <th>X2</th>\n",
       "      <th>X3</th>\n",
       "      <th>X4</th>\n",
       "      <th>X5</th>\n",
       "      <th>X6</th>\n",
       "      <th>X7</th>\n",
       "      <th>X8</th>\n",
       "      <th>X9</th>\n",
       "      <th>X10</th>\n",
       "      <th>X11</th>\n",
       "      <th>X12</th>\n",
       "      <th>X13</th>\n",
       "      <th>X14</th>\n",
       "      <th>X15</th>\n",
       "      <th>X16</th>\n",
       "      <th>X17</th>\n",
       "      <th>X18</th>\n",
       "      <th>X19</th>\n",
       "    </tr>\n",
       "  </thead>\n",
       "  <tbody>\n",
       "    <tr>\n",
       "      <th>0</th>\n",
       "      <td>0.584382</td>\n",
       "      <td>1.575696</td>\n",
       "      <td>2.695464</td>\n",
       "      <td>-0.093382</td>\n",
       "      <td>-1.008653</td>\n",
       "      <td>-2.130520</td>\n",
       "      <td>0.073951</td>\n",
       "      <td>0.511067</td>\n",
       "      <td>-0.393583</td>\n",
       "      <td>0.928494</td>\n",
       "      <td>-0.684658</td>\n",
       "      <td>0.808830</td>\n",
       "      <td>-0.970583</td>\n",
       "      <td>1.288700</td>\n",
       "      <td>-1.530880</td>\n",
       "      <td>-0.360343</td>\n",
       "      <td>0.613435</td>\n",
       "      <td>-1.420724</td>\n",
       "      <td>-0.468166</td>\n",
       "      <td>0.940244</td>\n",
       "    </tr>\n",
       "    <tr>\n",
       "      <th>1</th>\n",
       "      <td>0.270102</td>\n",
       "      <td>-0.054586</td>\n",
       "      <td>-0.850597</td>\n",
       "      <td>-0.686511</td>\n",
       "      <td>0.220699</td>\n",
       "      <td>1.324185</td>\n",
       "      <td>-1.555102</td>\n",
       "      <td>0.149774</td>\n",
       "      <td>-1.554309</td>\n",
       "      <td>-1.199953</td>\n",
       "      <td>-0.721713</td>\n",
       "      <td>-0.598281</td>\n",
       "      <td>0.252950</td>\n",
       "      <td>1.031579</td>\n",
       "      <td>1.169922</td>\n",
       "      <td>0.322423</td>\n",
       "      <td>-0.139039</td>\n",
       "      <td>-1.149716</td>\n",
       "      <td>-1.564601</td>\n",
       "      <td>0.834027</td>\n",
       "    </tr>\n",
       "    <tr>\n",
       "      <th>2</th>\n",
       "      <td>-0.247707</td>\n",
       "      <td>0.863195</td>\n",
       "      <td>-1.095371</td>\n",
       "      <td>1.167344</td>\n",
       "      <td>0.598390</td>\n",
       "      <td>-0.166306</td>\n",
       "      <td>-0.026893</td>\n",
       "      <td>1.922100</td>\n",
       "      <td>0.508699</td>\n",
       "      <td>0.024421</td>\n",
       "      <td>0.192007</td>\n",
       "      <td>-0.844108</td>\n",
       "      <td>-0.004417</td>\n",
       "      <td>0.712102</td>\n",
       "      <td>-0.808716</td>\n",
       "      <td>-1.603634</td>\n",
       "      <td>1.146348</td>\n",
       "      <td>0.094556</td>\n",
       "      <td>-1.365530</td>\n",
       "      <td>-0.528136</td>\n",
       "    </tr>\n",
       "    <tr>\n",
       "      <th>3</th>\n",
       "      <td>2.020952</td>\n",
       "      <td>-0.686447</td>\n",
       "      <td>-1.460047</td>\n",
       "      <td>-0.018267</td>\n",
       "      <td>0.652201</td>\n",
       "      <td>-0.049083</td>\n",
       "      <td>0.652234</td>\n",
       "      <td>-0.003813</td>\n",
       "      <td>-0.213485</td>\n",
       "      <td>-0.947249</td>\n",
       "      <td>0.224737</td>\n",
       "      <td>-0.921354</td>\n",
       "      <td>0.452828</td>\n",
       "      <td>1.140943</td>\n",
       "      <td>1.029152</td>\n",
       "      <td>0.492711</td>\n",
       "      <td>-0.437527</td>\n",
       "      <td>-1.136060</td>\n",
       "      <td>1.440852</td>\n",
       "      <td>0.921749</td>\n",
       "    </tr>\n",
       "    <tr>\n",
       "      <th>4</th>\n",
       "      <td>-2.151903</td>\n",
       "      <td>-1.676381</td>\n",
       "      <td>1.978479</td>\n",
       "      <td>0.994064</td>\n",
       "      <td>-0.504806</td>\n",
       "      <td>-0.606645</td>\n",
       "      <td>1.629224</td>\n",
       "      <td>-0.872791</td>\n",
       "      <td>0.825461</td>\n",
       "      <td>1.898365</td>\n",
       "      <td>0.683799</td>\n",
       "      <td>-0.067565</td>\n",
       "      <td>0.431572</td>\n",
       "      <td>0.218596</td>\n",
       "      <td>0.830026</td>\n",
       "      <td>-0.182794</td>\n",
       "      <td>0.486983</td>\n",
       "      <td>0.761405</td>\n",
       "      <td>0.450945</td>\n",
       "      <td>-0.305205</td>\n",
       "    </tr>\n",
       "  </tbody>\n",
       "</table>\n",
       "</div>"
      ],
      "text/plain": [
       "         X0        X1        X2        X3        X4        X5        X6  \\\n",
       "0  0.584382  1.575696  2.695464 -0.093382 -1.008653 -2.130520  0.073951   \n",
       "1  0.270102 -0.054586 -0.850597 -0.686511  0.220699  1.324185 -1.555102   \n",
       "2 -0.247707  0.863195 -1.095371  1.167344  0.598390 -0.166306 -0.026893   \n",
       "3  2.020952 -0.686447 -1.460047 -0.018267  0.652201 -0.049083  0.652234   \n",
       "4 -2.151903 -1.676381  1.978479  0.994064 -0.504806 -0.606645  1.629224   \n",
       "\n",
       "         X7        X8        X9       X10       X11       X12       X13  \\\n",
       "0  0.511067 -0.393583  0.928494 -0.684658  0.808830 -0.970583  1.288700   \n",
       "1  0.149774 -1.554309 -1.199953 -0.721713 -0.598281  0.252950  1.031579   \n",
       "2  1.922100  0.508699  0.024421  0.192007 -0.844108 -0.004417  0.712102   \n",
       "3 -0.003813 -0.213485 -0.947249  0.224737 -0.921354  0.452828  1.140943   \n",
       "4 -0.872791  0.825461  1.898365  0.683799 -0.067565  0.431572  0.218596   \n",
       "\n",
       "        X14       X15       X16       X17       X18       X19  \n",
       "0 -1.530880 -0.360343  0.613435 -1.420724 -0.468166  0.940244  \n",
       "1  1.169922  0.322423 -0.139039 -1.149716 -1.564601  0.834027  \n",
       "2 -0.808716 -1.603634  1.146348  0.094556 -1.365530 -0.528136  \n",
       "3  1.029152  0.492711 -0.437527 -1.136060  1.440852  0.921749  \n",
       "4  0.830026 -0.182794  0.486983  0.761405  0.450945 -0.305205  "
      ]
     },
     "execution_count": 154,
     "metadata": {},
     "output_type": "execute_result"
    }
   ],
   "source": [
    "df.head()"
   ]
  },
  {
   "cell_type": "code",
   "execution_count": 159,
   "metadata": {},
   "outputs": [],
   "source": [
    "from scipy.stats import t"
   ]
  },
  {
   "cell_type": "code",
   "execution_count": 160,
   "metadata": {},
   "outputs": [],
   "source": [
    "cutoff = 0.05\n",
    "TypeIerror=0\n",
    "for i in range(T):\n",
    "    Xi = df.iloc[:, i]\n",
    "    test_statistic = ((Xi.mean() - 0) /\n",
    "                (Xi.std()/np.sqrt(N-1)))\n",
    "    pvalue = (1 - t.cdf(test_statistic, N - 1))\n",
    "    if pvalue < cutoff:\n",
    "        TypeIerror += 1"
   ]
  },
  {
   "cell_type": "code",
   "execution_count": 161,
   "metadata": {},
   "outputs": [
    {
     "data": {
      "text/plain": [
       "1"
      ]
     },
     "execution_count": 161,
     "metadata": {},
     "output_type": "execute_result"
    }
   ],
   "source": [
    "TypeIerror"
   ]
  },
  {
   "cell_type": "code",
   "execution_count": 162,
   "metadata": {},
   "outputs": [
    {
     "data": {
      "text/plain": [
       "100"
      ]
     },
     "execution_count": 162,
     "metadata": {},
     "output_type": "execute_result"
    }
   ],
   "source": [
    "len(Xi)"
   ]
  },
  {
   "cell_type": "markdown",
   "metadata": {},
   "source": [
    "횟수를 좀 더 늘려서 시도하기 위해 함수 정의\n",
    "\n",
    "N개의 데이터 샘플을 이용한 가설 검정을 T번 시행하고, 각 시행에 대한 p-value를 반환하는 함수"
   ]
  },
  {
   "cell_type": "code",
   "execution_count": 163,
   "metadata": {},
   "outputs": [],
   "source": [
    "def do_experiment(N, T, cutoff=0.05):\n",
    "    results=[]\n",
    "    \n",
    "    # Make random data\n",
    "    for i in range(T):\n",
    "        X = stats.norm.rvs(0, 1, N)\n",
    "        test_statistic = ((X.mean() - 0) /(X.std()/np.sqrt(N-1)))\n",
    "        pvalue = (1 - t.cdf(test_statistic, N - 1))\n",
    "        results.append(pvalue)\n",
    "    return results"
   ]
  },
  {
   "cell_type": "markdown",
   "metadata": {},
   "source": [
    "P-value 자체도 하나의 확률 변수로 볼 수 있다. 실제로 P-value는 [0,1]사이에서 균등하게 분포 되어있다."
   ]
  },
  {
   "cell_type": "code",
   "execution_count": 165,
   "metadata": {},
   "outputs": [
    {
     "name": "stderr",
     "output_type": "stream",
     "text": [
      "/Users/donghoon/anaconda3/lib/python3.6/site-packages/matplotlib/axes/_axes.py:6462: UserWarning: The 'normed' kwarg is deprecated, and has been replaced by the 'density' kwarg.\n",
      "  warnings.warn(\"The 'normed' kwarg is deprecated, and has been \"\n"
     ]
    },
    {
     "data": {
      "image/png": "[encoded data removed]",
      "text/plain": [
       "<Figure size 432x288 with 1 Axes>"
      ]
     },
     "metadata": {},
     "output_type": "display_data"
    }
   ],
   "source": [
    "N=10\n",
    "T=100\n",
    "p_values = do_experiment(N,T,cutoff=0.05)\n",
    "plt.hist(p_values,normed=True)\n",
    "plt.plot((-0.05,1.05), (1,1), 'k--')\n",
    "plt.xlim(-0.05,1.05)\n",
    "plt.show()"
   ]
  },
  {
   "cell_type": "code",
   "execution_count": 166,
   "metadata": {},
   "outputs": [
    {
     "name": "stderr",
     "output_type": "stream",
     "text": [
      "/Users/donghoon/anaconda3/lib/python3.6/site-packages/matplotlib/axes/_axes.py:6462: UserWarning: The 'normed' kwarg is deprecated, and has been replaced by the 'density' kwarg.\n",
      "  warnings.warn(\"The 'normed' kwarg is deprecated, and has been \"\n"
     ]
    },
    {
     "data": {
      "image/png": "[encoded data removed]",
      "text/plain": [
       "<Figure size 432x288 with 1 Axes>"
      ]
     },
     "metadata": {},
     "output_type": "display_data"
    }
   ],
   "source": [
    "N=10\n",
    "T=1000\n",
    "p_values = do_experiment(N,T,cutoff=0.05)\n",
    "plt.hist(p_values,normed=True)\n",
    "plt.plot((-0.05,1.05), (1,1), 'k--')\n",
    "plt.xlim(-0.05,1.05)\n",
    "plt.show()"
   ]
  },
  {
   "cell_type": "code",
   "execution_count": null,
   "metadata": {},
   "outputs": [],
   "source": []
  }
 ],
 "metadata": {
  "kernelspec": {
   "display_name": "Python 3",
   "language": "python",
   "name": "python3"
  },
  "language_info": {
   "codemirror_mode": {
    "name": "ipython",
    "version": 3
   },
   "file_extension": ".py",
   "mimetype": "text/x-python",
   "name": "python",
   "nbconvert_exporter": "python",
   "pygments_lexer": "ipython3",
   "version": "3.6.5"
  }
 },
 "nbformat": 4,
 "nbformat_minor": 1
}
