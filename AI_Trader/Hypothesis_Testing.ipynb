{
 "cells": [
  {
   "cell_type": "code",
   "execution_count": 56,
   "metadata": {},
   "outputs": [],
   "source": [
    "import pandas as pd\n",
    "import numpy as np\n",
    "import matplotlib.pyplot as plt\n",
    "import scipy.stats as stats\n",
    "from datetime import datetime\n",
    "import datetime as dt\n",
    "import os"
   ]
  },
  {
   "cell_type": "markdown",
   "metadata": {},
   "source": [
    "### 가설 수립\n",
    "1. $H_0$ : KOSPI200의 주식의 평균 수익률이 0이하이다.\n",
    "2. $H_1$ : KOSPI200사의 주식의 평균 수익률이 0이상이다."
   ]
  },
  {
   "cell_type": "markdown",
   "metadata": {},
   "source": [
    "### read_csv() : csv 파일을 dataframe으로 불러오기"
   ]
  },
  {
   "cell_type": "code",
   "execution_count": 61,
   "metadata": {},
   "outputs": [],
   "source": [
    "def read_csv(path,code):\n",
    "    file_list=os.listdir(path)\n",
    "    for i in file_list:\n",
    "        if code in i:\n",
    "            print('opened  :',i)\n",
    "            return pd.read_csv(os.path.join(path,i))"
   ]
  },
  {
   "cell_type": "markdown",
   "metadata": {},
   "source": [
    "### read_KS200_symbol() : csv파일에서 KOSPI200 종목 리스트 반환하기"
   ]
  },
  {
   "cell_type": "code",
   "execution_count": 62,
   "metadata": {},
   "outputs": [],
   "source": [
    "def read_KS200_symbol(path,name):\n",
    "    temp_for_sort = []\n",
    "    file_path = os.path.join(path, name)\n",
    "    data_list=[]\n",
    "    with open(file_path, 'r', encoding='ms949') as in_file:\n",
    "        for sort_line in in_file:\n",
    "            sort_line=sort_line.strip('\\n')\n",
    "            data=sort_line.split(',')\n",
    "            data_list.append(data)\n",
    "\n",
    "    return data_list"
   ]
  },
  {
   "cell_type": "markdown",
   "metadata": {},
   "source": [
    "### csv 파일 불러오기"
   ]
  },
  {
   "cell_type": "code",
   "execution_count": 60,
   "metadata": {},
   "outputs": [
    {
     "name": "stdout",
     "output_type": "stream",
     "text": [
      "201\n",
      "opened  : SK하이닉스000660_2015-01-01_2019-01-26.csv\n"
     ]
    }
   ],
   "source": [
    "data_path = './data'\n",
    "KS200_name = 'KOSPI200.csv'\n",
    "KS200_list=read_KS200_symbol(data_path,KS200_name)\n",
    "print(len(KS200_list))\n",
    "df = read_csv(data_path, KS200_list[1][0])"
   ]
  },
  {
   "cell_type": "markdown",
   "metadata": {},
   "source": [
    "### datetime으로 Date 속성변환"
   ]
  },
  {
   "cell_type": "code",
   "execution_count": 68,
   "metadata": {},
   "outputs": [],
   "source": [
    "df['Date'] = pd.to_datetime(df['Date'])"
   ]
  },
  {
   "cell_type": "markdown",
   "metadata": {},
   "source": [
    "### Date 열을 index로 지정"
   ]
  },
  {
   "cell_type": "code",
   "execution_count": 69,
   "metadata": {
    "scrolled": true
   },
   "outputs": [],
   "source": [
    "df.set_index('Date',inplace=True)"
   ]
  },
  {
   "cell_type": "code",
   "execution_count": 70,
   "metadata": {},
   "outputs": [
    {
     "name": "stdout",
     "output_type": "stream",
     "text": [
      "<class 'pandas.core.frame.DataFrame'>\n",
      "DatetimeIndex: 999 entries, 2015-01-02 to 2019-01-25\n",
      "Data columns (total 6 columns):\n",
      "Open      999 non-null int64\n",
      "High      999 non-null int64\n",
      "Low       999 non-null int64\n",
      "Close     999 non-null int64\n",
      "Volume    999 non-null int64\n",
      "Change    999 non-null float64\n",
      "dtypes: float64(1), int64(5)\n",
      "memory usage: 54.6 KB\n"
     ]
    }
   ],
   "source": [
    "df.info()"
   ]
  },
  {
   "cell_type": "markdown",
   "metadata": {},
   "source": [
    "### index 확인"
   ]
  },
  {
   "cell_type": "code",
   "execution_count": 73,
   "metadata": {
    "scrolled": true
   },
   "outputs": [
    {
     "data": {
      "text/plain": [
       "pandas.core.indexes.datetimes.DatetimeIndex"
      ]
     },
     "execution_count": 73,
     "metadata": {},
     "output_type": "execute_result"
    }
   ],
   "source": [
    "type(df.index)"
   ]
  },
  {
   "cell_type": "code",
   "execution_count": 75,
   "metadata": {},
   "outputs": [
    {
     "data": {
      "text/html": [
       "<div>\n",
       "<style scoped>\n",
       "    .dataframe tbody tr th:only-of-type {\n",
       "        vertical-align: middle;\n",
       "    }\n",
       "\n",
       "    .dataframe tbody tr th {\n",
       "        vertical-align: top;\n",
       "    }\n",
       "\n",
       "    .dataframe thead th {\n",
       "        text-align: right;\n",
       "    }\n",
       "</style>\n",
       "<table border=\"1\" class=\"dataframe\">\n",
       "  <thead>\n",
       "    <tr style=\"text-align: right;\">\n",
       "      <th></th>\n",
       "      <th>Open</th>\n",
       "      <th>High</th>\n",
       "      <th>Low</th>\n",
       "      <th>Close</th>\n",
       "      <th>Volume</th>\n",
       "      <th>Change</th>\n",
       "    </tr>\n",
       "    <tr>\n",
       "      <th>Date</th>\n",
       "      <th></th>\n",
       "      <th></th>\n",
       "      <th></th>\n",
       "      <th></th>\n",
       "      <th></th>\n",
       "      <th></th>\n",
       "    </tr>\n",
       "  </thead>\n",
       "  <tbody>\n",
       "    <tr>\n",
       "      <th>2015-01-02</th>\n",
       "      <td>47950</td>\n",
       "      <td>48400</td>\n",
       "      <td>47650</td>\n",
       "      <td>47750</td>\n",
       "      <td>1155944</td>\n",
       "      <td>0.000000</td>\n",
       "    </tr>\n",
       "    <tr>\n",
       "      <th>2015-01-05</th>\n",
       "      <td>48050</td>\n",
       "      <td>48400</td>\n",
       "      <td>47500</td>\n",
       "      <td>47650</td>\n",
       "      <td>1409146</td>\n",
       "      <td>-0.002094</td>\n",
       "    </tr>\n",
       "    <tr>\n",
       "      <th>2015-01-06</th>\n",
       "      <td>47000</td>\n",
       "      <td>47600</td>\n",
       "      <td>46900</td>\n",
       "      <td>47500</td>\n",
       "      <td>1661196</td>\n",
       "      <td>-0.003148</td>\n",
       "    </tr>\n",
       "    <tr>\n",
       "      <th>2015-01-07</th>\n",
       "      <td>46700</td>\n",
       "      <td>47600</td>\n",
       "      <td>46700</td>\n",
       "      <td>47400</td>\n",
       "      <td>1821266</td>\n",
       "      <td>-0.002105</td>\n",
       "    </tr>\n",
       "    <tr>\n",
       "      <th>2015-01-08</th>\n",
       "      <td>48250</td>\n",
       "      <td>50000</td>\n",
       "      <td>47900</td>\n",
       "      <td>49950</td>\n",
       "      <td>5006675</td>\n",
       "      <td>0.053797</td>\n",
       "    </tr>\n",
       "  </tbody>\n",
       "</table>\n",
       "</div>"
      ],
      "text/plain": [
       "             Open   High    Low  Close   Volume    Change\n",
       "Date                                                     \n",
       "2015-01-02  47950  48400  47650  47750  1155944  0.000000\n",
       "2015-01-05  48050  48400  47500  47650  1409146 -0.002094\n",
       "2015-01-06  47000  47600  46900  47500  1661196 -0.003148\n",
       "2015-01-07  46700  47600  46700  47400  1821266 -0.002105\n",
       "2015-01-08  48250  50000  47900  49950  5006675  0.053797"
      ]
     },
     "execution_count": 75,
     "metadata": {},
     "output_type": "execute_result"
    }
   ],
   "source": [
    "df.head(5)"
   ]
  },
  {
   "cell_type": "markdown",
   "metadata": {},
   "source": [
    "### 시작지점과 끝지점 지정"
   ]
  },
  {
   "cell_type": "code",
   "execution_count": 78,
   "metadata": {},
   "outputs": [],
   "source": [
    "start = '20150102'\n",
    "end = '20180601'"
   ]
  },
  {
   "cell_type": "code",
   "execution_count": 82,
   "metadata": {
    "scrolled": true
   },
   "outputs": [],
   "source": [
    "KSFT=df[start:end]"
   ]
  },
  {
   "cell_type": "code",
   "execution_count": 83,
   "metadata": {},
   "outputs": [
    {
     "data": {
      "text/html": [
       "<div>\n",
       "<style scoped>\n",
       "    .dataframe tbody tr th:only-of-type {\n",
       "        vertical-align: middle;\n",
       "    }\n",
       "\n",
       "    .dataframe tbody tr th {\n",
       "        vertical-align: top;\n",
       "    }\n",
       "\n",
       "    .dataframe thead th {\n",
       "        text-align: right;\n",
       "    }\n",
       "</style>\n",
       "<table border=\"1\" class=\"dataframe\">\n",
       "  <thead>\n",
       "    <tr style=\"text-align: right;\">\n",
       "      <th></th>\n",
       "      <th>Open</th>\n",
       "      <th>High</th>\n",
       "      <th>Low</th>\n",
       "      <th>Close</th>\n",
       "      <th>Volume</th>\n",
       "      <th>Change</th>\n",
       "    </tr>\n",
       "    <tr>\n",
       "      <th>Date</th>\n",
       "      <th></th>\n",
       "      <th></th>\n",
       "      <th></th>\n",
       "      <th></th>\n",
       "      <th></th>\n",
       "      <th></th>\n",
       "    </tr>\n",
       "  </thead>\n",
       "  <tbody>\n",
       "    <tr>\n",
       "      <th>2015-01-02</th>\n",
       "      <td>47950</td>\n",
       "      <td>48400</td>\n",
       "      <td>47650</td>\n",
       "      <td>47750</td>\n",
       "      <td>1155944</td>\n",
       "      <td>0.000000</td>\n",
       "    </tr>\n",
       "    <tr>\n",
       "      <th>2015-01-05</th>\n",
       "      <td>48050</td>\n",
       "      <td>48400</td>\n",
       "      <td>47500</td>\n",
       "      <td>47650</td>\n",
       "      <td>1409146</td>\n",
       "      <td>-0.002094</td>\n",
       "    </tr>\n",
       "    <tr>\n",
       "      <th>2015-01-06</th>\n",
       "      <td>47000</td>\n",
       "      <td>47600</td>\n",
       "      <td>46900</td>\n",
       "      <td>47500</td>\n",
       "      <td>1661196</td>\n",
       "      <td>-0.003148</td>\n",
       "    </tr>\n",
       "    <tr>\n",
       "      <th>2015-01-07</th>\n",
       "      <td>46700</td>\n",
       "      <td>47600</td>\n",
       "      <td>46700</td>\n",
       "      <td>47400</td>\n",
       "      <td>1821266</td>\n",
       "      <td>-0.002105</td>\n",
       "    </tr>\n",
       "    <tr>\n",
       "      <th>2015-01-08</th>\n",
       "      <td>48250</td>\n",
       "      <td>50000</td>\n",
       "      <td>47900</td>\n",
       "      <td>49950</td>\n",
       "      <td>5006675</td>\n",
       "      <td>0.053797</td>\n",
       "    </tr>\n",
       "    <tr>\n",
       "      <th>2015-01-09</th>\n",
       "      <td>50700</td>\n",
       "      <td>51400</td>\n",
       "      <td>49700</td>\n",
       "      <td>49700</td>\n",
       "      <td>3313929</td>\n",
       "      <td>-0.005005</td>\n",
       "    </tr>\n",
       "    <tr>\n",
       "      <th>2015-01-12</th>\n",
       "      <td>50000</td>\n",
       "      <td>50500</td>\n",
       "      <td>49450</td>\n",
       "      <td>50300</td>\n",
       "      <td>1709997</td>\n",
       "      <td>0.012072</td>\n",
       "    </tr>\n",
       "    <tr>\n",
       "      <th>2015-01-13</th>\n",
       "      <td>48500</td>\n",
       "      <td>49650</td>\n",
       "      <td>48500</td>\n",
       "      <td>49000</td>\n",
       "      <td>3047952</td>\n",
       "      <td>-0.025845</td>\n",
       "    </tr>\n",
       "    <tr>\n",
       "      <th>2015-01-14</th>\n",
       "      <td>48900</td>\n",
       "      <td>49850</td>\n",
       "      <td>48850</td>\n",
       "      <td>48900</td>\n",
       "      <td>2241954</td>\n",
       "      <td>-0.002041</td>\n",
       "    </tr>\n",
       "    <tr>\n",
       "      <th>2015-01-15</th>\n",
       "      <td>48900</td>\n",
       "      <td>49500</td>\n",
       "      <td>48850</td>\n",
       "      <td>49500</td>\n",
       "      <td>1468474</td>\n",
       "      <td>0.012270</td>\n",
       "    </tr>\n",
       "  </tbody>\n",
       "</table>\n",
       "</div>"
      ],
      "text/plain": [
       "             Open   High    Low  Close   Volume    Change\n",
       "Date                                                     \n",
       "2015-01-02  47950  48400  47650  47750  1155944  0.000000\n",
       "2015-01-05  48050  48400  47500  47650  1409146 -0.002094\n",
       "2015-01-06  47000  47600  46900  47500  1661196 -0.003148\n",
       "2015-01-07  46700  47600  46700  47400  1821266 -0.002105\n",
       "2015-01-08  48250  50000  47900  49950  5006675  0.053797\n",
       "2015-01-09  50700  51400  49700  49700  3313929 -0.005005\n",
       "2015-01-12  50000  50500  49450  50300  1709997  0.012072\n",
       "2015-01-13  48500  49650  48500  49000  3047952 -0.025845\n",
       "2015-01-14  48900  49850  48850  48900  2241954 -0.002041\n",
       "2015-01-15  48900  49500  48850  49500  1468474  0.012270"
      ]
     },
     "execution_count": 83,
     "metadata": {},
     "output_type": "execute_result"
    }
   ],
   "source": [
    "KSFT.head(10)"
   ]
  },
  {
   "cell_type": "markdown",
   "metadata": {},
   "source": [
    "날짜별 수익률을 구한다."
   ]
  },
  {
   "cell_type": "code",
   "execution_count": 84,
   "metadata": {},
   "outputs": [],
   "source": [
    "price = KSFT['Close']\n",
    "returns = price.pct_change()[1:]"
   ]
  },
  {
   "cell_type": "code",
   "execution_count": 85,
   "metadata": {},
   "outputs": [
    {
     "data": {
      "text/plain": [
       "Date\n",
       "2015-01-02    47750\n",
       "2015-01-05    47650\n",
       "2015-01-06    47500\n",
       "2015-01-07    47400\n",
       "2015-01-08    49950\n",
       "2015-01-09    49700\n",
       "2015-01-12    50300\n",
       "2015-01-13    49000\n",
       "2015-01-14    48900\n",
       "2015-01-15    49500\n",
       "2015-01-16    47450\n",
       "2015-01-19    47000\n",
       "2015-01-20    47050\n",
       "2015-01-21    48050\n",
       "2015-01-22    47000\n",
       "2015-01-23    47500\n",
       "2015-01-26    48250\n",
       "2015-01-27    49150\n",
       "2015-01-28    49200\n",
       "2015-01-29    47400\n",
       "2015-01-30    47650\n",
       "2015-02-02    46600\n",
       "2015-02-03    46700\n",
       "2015-02-04    47300\n",
       "2015-02-05    47150\n",
       "2015-02-06    45500\n",
       "2015-02-09    45200\n",
       "2015-02-10    45150\n",
       "2015-02-11    46850\n",
       "2015-02-12    46650\n",
       "              ...  \n",
       "2018-04-18    84600\n",
       "2018-04-19    87900\n",
       "2018-04-20    84400\n",
       "2018-04-23    84400\n",
       "2018-04-24    82100\n",
       "2018-04-25    82400\n",
       "2018-04-26    86500\n",
       "2018-04-27    87100\n",
       "2018-04-30    84500\n",
       "2018-05-02    83100\n",
       "2018-05-03    82900\n",
       "2018-05-04    83000\n",
       "2018-05-08    83500\n",
       "2018-05-09    83400\n",
       "2018-05-10    85800\n",
       "2018-05-11    86100\n",
       "2018-05-14    85400\n",
       "2018-05-15    84600\n",
       "2018-05-16    87000\n",
       "2018-05-17    86700\n",
       "2018-05-18    87900\n",
       "2018-05-21    89100\n",
       "2018-05-23    95300\n",
       "2018-05-24    94600\n",
       "2018-05-25    95200\n",
       "2018-05-28    94500\n",
       "2018-05-29    94800\n",
       "2018-05-30    95000\n",
       "2018-05-31    93400\n",
       "2018-06-01    91400\n",
       "Name: Close, Length: 840, dtype: int64"
      ]
     },
     "execution_count": 85,
     "metadata": {},
     "output_type": "execute_result"
    }
   ],
   "source": [
    "price"
   ]
  },
  {
   "cell_type": "code",
   "execution_count": 87,
   "metadata": {},
   "outputs": [
    {
     "data": {
      "image/png": "[encoded data removed]",
      "text/plain": [
       "<Figure size 432x288 with 1 Axes>"
      ]
     },
     "metadata": {},
     "output_type": "display_data"
    }
   ],
   "source": [
    "plt.plot(price)\n",
    "plt.grid()\n",
    "plt.ylabel('Price')\n",
    "plt.show()"
   ]
  },
  {
   "cell_type": "code",
   "execution_count": 88,
   "metadata": {},
   "outputs": [
    {
     "data": {
      "image/png": "[encoded data removed]",
      "text/plain": [
       "<Figure size 432x288 with 1 Axes>"
      ]
     },
     "metadata": {},
     "output_type": "display_data"
    }
   ],
   "source": [
    "plt.plot(returns)\n",
    "plt.grid()\n",
    "plt.ylabel('Returns')\n",
    "plt.show()"
   ]
  },
  {
   "cell_type": "code",
   "execution_count": 89,
   "metadata": {},
   "outputs": [
    {
     "data": {
      "image/png": "[encoded data removed]",
      "text/plain": [
       "<Figure size 432x288 with 1 Axes>"
      ]
     },
     "metadata": {},
     "output_type": "display_data"
    }
   ],
   "source": [
    "x = np.linspace(-3,3,100)\n",
    "norm_pdf = lambda x : (1/np.sqrt(2*np.pi))* np.exp(-x * x / 2 )\n",
    "y = norm_pdf(x)\n",
    "\n",
    "fig, ax = plt.subplots(1, 1, sharex=True)\n",
    "ax.plot(x, y)\n",
    "ax.fill_between(x, 0, y, where = x > 1.96, color='blue')\n",
    "ax.fill_between(x, 0, y, where = x < -1.96, color='blue')\n",
    "plt.plot([1.96,1.96],[0,0.5], 'r--')\n",
    "plt.plot([-1.96,-1.96],[0,0.5], 'r--')\n",
    "plt.title('Rejection regions for a two-tailed hypothesis test at 95% confidence')\n",
    "plt.xlabel('x')\n",
    "plt.ylabel('p(x)')\n",
    "plt.xlim(-3,3)\n",
    "plt.ylim(0,0.5)\n",
    "plt.show()"
   ]
  },
  {
   "cell_type": "markdown",
   "metadata": {},
   "source": [
    "수익률의 통계량 계산"
   ]
  },
  {
   "cell_type": "code",
   "execution_count": 90,
   "metadata": {},
   "outputs": [
    {
     "name": "stdout",
     "output_type": "stream",
     "text": [
      "t test statistic:  1.3373448720489094\n"
     ]
    }
   ],
   "source": [
    "n = len(returns)\n",
    "test_statistic = ((returns.mean() - 0) /\n",
    "                (returns.std()/np.sqrt(n-1)))\n",
    "print ('t test statistic: ', test_statistic)"
   ]
  },
  {
   "cell_type": "code",
   "execution_count": 91,
   "metadata": {},
   "outputs": [
    {
     "name": "stdout",
     "output_type": "stream",
     "text": [
      "P-value is:  0.0905550451347017\n"
     ]
    }
   ],
   "source": [
    "from scipy.stats import norm\n",
    "p_val = (1 - norm.cdf(test_statistic,0,1))\n",
    "print('P-value is: ', p_val)"
   ]
  },
  {
   "cell_type": "markdown",
   "metadata": {},
   "source": [
    "P-value가 0.05보다 크면, $H_0$를 기각할 수 없다. \n",
    "P-value가 0.05보다 작거나 같으면, $H_0$를 기각할 수 있다."
   ]
  },
  {
   "cell_type": "markdown",
   "metadata": {},
   "source": [
    "## 두 집단의 평균 비교\n",
    "해당 회사의 주식의 평균 수익률이 시장의 평균 수익률이 다른지 검증"
   ]
  },
  {
   "cell_type": "code",
   "execution_count": null,
   "metadata": {},
   "outputs": [],
   "source": []
  }
 ],
 "metadata": {
  "kernelspec": {
   "display_name": "Python 3",
   "language": "python",
   "name": "python3"
  },
  "language_info": {
   "codemirror_mode": {
    "name": "ipython",
    "version": 3
   },
   "file_extension": ".py",
   "mimetype": "text/x-python",
   "name": "python",
   "nbconvert_exporter": "python",
   "pygments_lexer": "ipython3",
   "version": "3.6.5"
  }
 },
 "nbformat": 4,
 "nbformat_minor": 1
}
